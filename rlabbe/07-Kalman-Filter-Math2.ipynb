{
  "cells": [
    {
      "cell_type": "markdown",
      "metadata": {
        "id": "FchZq7IcvMT2"
      },
      "source": [
        "[Table of Contents](./table_of_contents.ipynb)"
      ]
    },
    {
      "cell_type": "markdown",
      "metadata": {
        "id": "GZs0IWMxvMT5"
      },
      "source": [
        "# Kalman Filter Math"
      ]
    },
    {
      "cell_type": "code",
      "execution_count": 36,
      "metadata": {
        "id": "TZDfqrSHvMT6",
        "outputId": "cf58e96c-8540-45ec-f55e-59739f5c1d0e",
        "colab": {
          "base_uri": "https://localhost:8080/"
        }
      },
      "outputs": [
        {
          "output_type": "stream",
          "name": "stdout",
          "text": [
            "Looking in indexes: https://pypi.org/simple, https://us-python.pkg.dev/colab-wheels/public/simple/\n",
            "Collecting filterpy\n",
            "  Downloading filterpy-1.4.5.zip (177 kB)\n",
            "\u001b[K     |████████████████████████████████| 177 kB 21.6 MB/s \n",
            "\u001b[?25hRequirement already satisfied: numpy in /usr/local/lib/python3.7/dist-packages (from filterpy) (1.21.6)\n",
            "Requirement already satisfied: scipy in /usr/local/lib/python3.7/dist-packages (from filterpy) (1.4.1)\n",
            "Requirement already satisfied: matplotlib in /usr/local/lib/python3.7/dist-packages (from filterpy) (3.2.2)\n",
            "Requirement already satisfied: pyparsing!=2.0.4,!=2.1.2,!=2.1.6,>=2.0.1 in /usr/local/lib/python3.7/dist-packages (from matplotlib->filterpy) (3.0.9)\n",
            "Requirement already satisfied: cycler>=0.10 in /usr/local/lib/python3.7/dist-packages (from matplotlib->filterpy) (0.11.0)\n",
            "Requirement already satisfied: kiwisolver>=1.0.1 in /usr/local/lib/python3.7/dist-packages (from matplotlib->filterpy) (1.4.2)\n",
            "Requirement already satisfied: python-dateutil>=2.1 in /usr/local/lib/python3.7/dist-packages (from matplotlib->filterpy) (2.8.2)\n",
            "Requirement already satisfied: typing-extensions in /usr/local/lib/python3.7/dist-packages (from kiwisolver>=1.0.1->matplotlib->filterpy) (4.2.0)\n",
            "Requirement already satisfied: six>=1.5 in /usr/local/lib/python3.7/dist-packages (from python-dateutil>=2.1->matplotlib->filterpy) (1.15.0)\n",
            "Building wheels for collected packages: filterpy\n",
            "  Building wheel for filterpy (setup.py) ... \u001b[?25l\u001b[?25hdone\n",
            "  Created wheel for filterpy: filename=filterpy-1.4.5-py3-none-any.whl size=110474 sha256=7bd057b0ef810866c4f88e48c52c6e55dc2abfc0d0b997084e49af306f0b875f\n",
            "  Stored in directory: /root/.cache/pip/wheels/ce/e0/ee/a2b3c5caab3418c1ccd8c4de573d4cbe13315d7e8b0a55fbc2\n",
            "Successfully built filterpy\n",
            "Installing collected packages: filterpy\n",
            "Successfully installed filterpy-1.4.5\n"
          ]
        }
      ],
      "source": [
        "%matplotlib inline\n",
        "!pip install filterpy"
      ]
    },
    {
      "cell_type": "code",
      "source": [
        "import os\n",
        "import filterpy"
      ],
      "metadata": {
        "id": "mD6UWwtaMx_W"
      },
      "execution_count": 41,
      "outputs": []
    },
    {
      "cell_type": "code",
      "source": [
        "!wget https://raw.githubusercontent.com/rlabbe/Kalman-and-Bayesian-Filters-in-Python/master/kf_book/book_plots.py"
      ],
      "metadata": {
        "id": "PbWnid1gGkko",
        "outputId": "c1c40b12-52dc-406f-d497-e63673d4c204",
        "colab": {
          "base_uri": "https://localhost:8080/"
        }
      },
      "execution_count": 12,
      "outputs": [
        {
          "output_type": "stream",
          "name": "stdout",
          "text": [
            "--2022-05-25 16:45:07--  https://raw.githubusercontent.com/rlabbe/Kalman-and-Bayesian-Filters-in-Python/master/kf_book/book_plots.py\n",
            "Resolving raw.githubusercontent.com (raw.githubusercontent.com)... 185.199.108.133, 185.199.111.133, 185.199.110.133, ...\n",
            "Connecting to raw.githubusercontent.com (raw.githubusercontent.com)|185.199.108.133|:443... connected.\n",
            "HTTP request sent, awaiting response... 200 OK\n",
            "Length: 14312 (14K) [text/plain]\n",
            "Saving to: ‘book_plots.py’\n",
            "\n",
            "\rbook_plots.py         0%[                    ]       0  --.-KB/s               \rbook_plots.py       100%[===================>]  13.98K  --.-KB/s    in 0s      \n",
            "\n",
            "2022-05-25 16:45:07 (62.5 MB/s) - ‘book_plots.py’ saved [14312/14312]\n",
            "\n"
          ]
        }
      ]
    },
    {
      "cell_type": "code",
      "source": [
        "!ls"
      ],
      "metadata": {
        "id": "cdFXM0AH2K8Y",
        "outputId": "c1c9aa04-406b-4ddd-c156-f6c30bd859de",
        "colab": {
          "base_uri": "https://localhost:8080/"
        }
      },
      "execution_count": 24,
      "outputs": [
        {
          "output_type": "stream",
          "name": "stdout",
          "text": [
            "book_format.py\tkf_book\t\t    kf_book.book_plots.py\n",
            "book_plots.py\tkf_book.book_plots  sample_data\n"
          ]
        }
      ]
    },
    {
      "cell_type": "code",
      "source": [
        "!python book_plots.py"
      ],
      "metadata": {
        "id": "tMTDCLGl92kZ"
      },
      "execution_count": 57,
      "outputs": []
    },
    {
      "cell_type": "code",
      "source": [
        "import book_plots"
      ],
      "metadata": {
        "id": "HbF2pk6gKu2i"
      },
      "execution_count": 55,
      "outputs": []
    },
    {
      "cell_type": "code",
      "source": [
        "from google.colab import files\n",
        "uploaded = files.upload()"
      ],
      "metadata": {
        "id": "ZaXNHbGO17-a",
        "outputId": "d1ae4343-9419-4981-ad85-a2c7f9fa216c",
        "colab": {
          "resources": {
            "http://localhost:8080/nbextensions/google.colab/files.js": {
              "data": "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",
              "ok": true,
              "headers": [
                [
                  "content-type",
                  "application/javascript"
                ]
              ],
              "status": 200,
              "status_text": ""
            }
          },
          "base_uri": "https://localhost:8080/",
          "height": 73
        }
      },
      "execution_count": 52,
      "outputs": [
        {
          "output_type": "display_data",
          "data": {
            "text/plain": [
              "<IPython.core.display.HTML object>"
            ],
            "text/html": [
              "\n",
              "     <input type=\"file\" id=\"files-9338e1b3-8676-4869-b598-a718feb5cfc9\" name=\"files[]\" multiple disabled\n",
              "        style=\"border:none\" />\n",
              "     <output id=\"result-9338e1b3-8676-4869-b598-a718feb5cfc9\">\n",
              "      Upload widget is only available when the cell has been executed in the\n",
              "      current browser session. Please rerun this cell to enable.\n",
              "      </output>\n",
              "      <script src=\"/nbextensions/google.colab/files.js\"></script> "
            ]
          },
          "metadata": {}
        },
        {
          "output_type": "stream",
          "name": "stdout",
          "text": [
            "Saving book_format.py to book_format.py\n"
          ]
        }
      ]
    },
    {
      "cell_type": "code",
      "source": [
        "#format the book\n",
        "import book_format\n"
      ],
      "metadata": {
        "id": "XwJ_9G7YLKSF"
      },
      "execution_count": 61,
      "outputs": []
    },
    {
      "cell_type": "code",
      "source": [
        "#!mkdir kf_book"
      ],
      "metadata": {
        "id": "aIgErJiW3Hqc"
      },
      "execution_count": 19,
      "outputs": []
    },
    {
      "cell_type": "code",
      "source": [
        "#!cp \"book_plots.py\" \"kf_book.book_plots.py\""
      ],
      "metadata": {
        "id": "iufouFCQFQjP"
      },
      "execution_count": 22,
      "outputs": []
    },
    {
      "cell_type": "code",
      "source": [
        "#!python book_format.py"
      ],
      "metadata": {
        "id": "WoGnuGUw2yRQ"
      },
      "execution_count": 68,
      "outputs": []
    },
    {
      "cell_type": "code",
      "source": [
        "#!rm 'book_format.py'"
      ],
      "metadata": {
        "id": "vg5DYeGF7xr3"
      },
      "execution_count": 51,
      "outputs": []
    },
    {
      "cell_type": "code",
      "source": [
        "#os.rename('book_plots.py', 'kf_book.book_plots.py') "
      ],
      "metadata": {
        "id": "wsBz0hUE4oil"
      },
      "execution_count": null,
      "outputs": []
    },
    {
      "cell_type": "code",
      "source": [
        "#!mv \"book_plots.py\" \"/kf_book\""
      ],
      "metadata": {
        "id": "Zwb-XQyP31n9"
      },
      "execution_count": null,
      "outputs": []
    },
    {
      "cell_type": "code",
      "source": [
        "#!cp \"kf_book.book_plots.py\" \"kf_book.book_plots\""
      ],
      "metadata": {
        "id": "yaHYVPea5R1T"
      },
      "execution_count": null,
      "outputs": []
    },
    {
      "cell_type": "code",
      "execution_count": 67,
      "metadata": {
        "id": "iFnWNxbavMT7"
      },
      "outputs": [],
      "source": [
        "#book_format.set_style() #not working"
      ]
    },
    {
      "cell_type": "markdown",
      "metadata": {
        "id": "QgxBT2WYvMT8"
      },
      "source": [
        "If you've gotten this far I hope that you are thinking that the Kalman filter's fearsome reputation is somewhat undeserved. Sure, I hand waved some equations away, but I hope implementation has been fairly straightforward for you. The underlying concept is quite straightforward - take two measurements, or a measurement and a prediction, and choose the output to be somewhere between the two. If you believe the measurement more your guess will be closer to the measurement, and if you believe the prediction is more accurate your guess will lie closer to it. That's not rocket science (little joke - it is exactly this math that got Apollo to the moon and back!). \n",
        "\n",
        "To be honest I have been choosing my problems carefully. For an arbitrary problem designing the Kalman filter matrices can be extremely difficult. I haven't been *too tricky*, though. Equations like Newton's equations of motion can be trivially computed for Kalman filter applications, and they make up the bulk of the kind of problems that we want to solve. \n",
        "\n",
        "I have illustrated the concepts with code and reasoning, not math. But there are topics that do require more mathematics than I have used so far. This chapter presents the math that you will need for the rest of the book."
      ]
    },
    {
      "cell_type": "markdown",
      "metadata": {
        "id": "mVcpl7IZvMT9"
      },
      "source": [
        "## Modeling a Dynamic System\n",
        "\n",
        "A *dynamic system* is a physical system whose state (position, temperature, etc) evolves over time. Calculus is the math of changing values, so we use differential equations to model dynamic systems. Some systems cannot be modeled with differential equations, but we will not encounter those in this book.\n",
        "\n",
        "Modeling dynamic systems is properly the topic of several college courses. To an extent there is no substitute for a few semesters of ordinary and partial differential equations followed by a graduate course in control system theory. If you are a hobbyist, or trying to solve one very specific filtering problem at work you probably do not have the time and/or inclination to devote a year or more to that education.\n",
        "\n",
        "Fortunately, I can present enough of the theory to allow us to create the system equations for many different Kalman filters. My goal is to get you to the stage where you can read a publication and understand it well enough to implement the algorithms. The background math is deep, but in practice we end up using a few simple techniques. \n",
        "\n",
        "This is the longest section of pure math in this book. You will need to master everything in this section to understand the Extended Kalman filter (EKF), the most common nonlinear filter. I do cover more modern filters that do not require as much of this math. You can choose to skim now, and come back to this if you decide to learn the EKF.\n",
        "\n",
        "We need to start by understanding the underlying equations and assumptions that the Kalman filter uses. We are trying to model real world phenomena, so what do we have to consider?\n",
        "\n",
        "Each physical system has a process. For example, a car traveling at a certain velocity goes so far in a fixed amount of time, and its velocity varies as a function of its acceleration. We describe that behavior with the well known Newtonian equations that we learned in high school.\n",
        "\n",
        "$$\n",
        "\\begin{aligned}\n",
        "v&=at\\\\\n",
        "x &= \\frac{1}{2}at^2 + v_0t + x_0\n",
        "\\end{aligned}\n",
        "$$\n",
        "\n",
        "Once we learned calculus we saw them in this form:\n",
        "\n",
        "$$ \\mathbf v = \\frac{d \\mathbf x}{d t}, \n",
        "\\quad \\mathbf a = \\frac{d \\mathbf v}{d t} = \\frac{d^2 \\mathbf x}{d t^2}\n",
        "$$\n",
        "\n",
        "A typical automobile tracking problem would have you compute the distance traveled given a constant velocity or acceleration, as we did in previous chapters. But, of course we know this is not all that is happening. No car travels on a perfect road. There are bumps, wind drag, and hills that raise and lower the speed. The suspension is a mechanical system with friction and imperfect springs.\n",
        "\n",
        "Perfectly modeling a system is impossible except for the most trivial problems. We are forced to make a simplification. At any time $t$ we say that the true state (such as the position of our car) is the predicted value from the imperfect model plus some unknown *process noise*:\n",
        "\n",
        "$$\n",
        "x(t) = x_{pred}(t) + noise(t)\n",
        "$$\n",
        "\n",
        "This is not meant to imply that $noise(t)$ is a function that we can derive analytically. It is merely a statement of fact - we can always describe the true value as the predicted value  plus the process noise. \"Noise\" does not imply random events. If we are tracking a thrown ball in the atmosphere, and our model assumes the ball is in a vacuum, then the effect of air drag is process noise in this context.\n",
        "\n",
        "In the next section we will learn techniques to convert a set of higher order differential equations into a set of first-order differential equations.  After the conversion the model of the system without noise is:\n",
        "\n",
        "$$ \\dot{\\mathbf x} = \\mathbf{Ax}$$\n",
        "\n",
        "$\\mathbf A$ is known as the *systems dynamics matrix* as it describes the dynamics of the system. Now we need to model the noise. We will call that $\\mathbf w$, and add it to the equation. \n",
        "\n",
        "$$ \\dot{\\mathbf x} = \\mathbf{Ax} + \\mathbf w$$\n",
        "\n",
        "$\\mathbf w$ may strike you as a poor choice for the name, but you will soon see that the Kalman filter assumes *white* noise.\n",
        "\n",
        "Finally, we need to consider any inputs into the system. We assume an input $\\mathbf u$, and that there exists a linear model that defines how that input changes the system. For example, pressing the accelerator in your car makes it accelerate, and gravity causes balls to fall. Both are control inputs. We will need a matrix $\\mathbf B$ to convert $u$ into the effect on the system. We add that into our equation:\n",
        "\n",
        "$$ \\dot{\\mathbf x} = \\mathbf{Ax} + \\mathbf{Bu} + \\mathbf{w}$$\n",
        "\n",
        "And that's it. That is one of the equations that Dr. Kalman set out to solve, and he found an optimal estimator if we assume certain properties of $\\mathbf w$."
      ]
    },
    {
      "cell_type": "markdown",
      "metadata": {
        "id": "lAn8_6QavMT_"
      },
      "source": [
        "## State-Space Representation of Dynamic Systems"
      ]
    },
    {
      "cell_type": "markdown",
      "metadata": {
        "id": "A2pDbp1vvMUA"
      },
      "source": [
        "We've derived the equation\n",
        "\n",
        "$$ \\dot{\\mathbf x} = \\mathbf{Ax}+ \\mathbf{Bu} + \\mathbf{w}$$\n",
        "\n",
        "However, we are not interested in the derivative of $\\mathbf x$, but in $\\mathbf x$ itself. Ignoring the noise for a moment, we want an equation that recursively finds the value of $\\mathbf x$ at time $t_k$ in terms of $\\mathbf x$ at time $t_{k-1}$:\n",
        "\n",
        "$$\\mathbf x(t_k) = \\mathbf F(\\Delta t)\\mathbf x(t_{k-1}) + \\mathbf B(t_k)\\mathbf u (t_k)$$\n",
        "\n",
        "Convention allows us to write $\\mathbf x(t_k)$ as $\\mathbf x_k$, which means the \n",
        "the value of $\\mathbf x$ at the $k^{th}$ value of $t$.\n",
        "\n",
        "$$\\mathbf x_k = \\mathbf{Fx}_{k-1} + \\mathbf B_k\\mathbf u_k$$\n",
        "\n",
        "$\\mathbf F$ is the familiar *state transition matrix*, named due to its ability to transition the state's value between discrete time steps. It is very similar to the system dynamics matrix $\\mathbf A$. The difference is that $\\mathbf A$ models a set of linear differential equations, and is continuous. $\\mathbf F$ is discrete, and represents a set of linear equations (not differential equations) which transitions $\\mathbf x_{k-1}$ to $\\mathbf x_k$ over a discrete time step $\\Delta t$. \n",
        "\n",
        "Finding this matrix is often quite difficult. The equation $\\dot x = v$ is the simplest possible differential equation and we trivially integrate it as:\n",
        "\n",
        "$$ \\int\\limits_{x_{k-1}}^{x_k}  \\mathrm{d}x = \\int\\limits_{0}^{\\Delta t} v\\, \\mathrm{d}t $$\n",
        "$$x_k-x_{k-1} = v \\Delta t$$\n",
        "$$x_k = v \\Delta t + x_{k-1}$$\n",
        "\n",
        "This equation is *recursive*: we compute the value of $x$ at time $k$ based on its value at time $k-1$. This recursive form enables us to represent the system (process model) in the form required by the Kalman filter:\n",
        "\n",
        "$$\\begin{aligned}\n",
        "\\mathbf x_k &= \\mathbf{Fx}_{k-1}  \\\\\n",
        "&= \\begin{bmatrix} 1 & \\Delta t \\\\ 0 & 1\\end{bmatrix}\n",
        "\\begin{bmatrix}x_{k-1} \\\\ \\dot x_{k-1}\\end{bmatrix}\n",
        "\\end{aligned}$$\n",
        "\n",
        "We can do that only because $\\dot x = v$ is simplest differential equation possible. Almost all other in physical systems result in more complicated differential equation which do not yield to this approach. \n",
        "\n",
        "*State-space* methods became popular around the time of the Apollo missions, largely due to the work of Dr. Kalman. The idea is simple. Model a system with a set of  $n^{th}$-order differential equations. Convert them into an equivalent set of first-order differential equations. Put them into the vector-matrix form used in the previous section: $\\dot{\\mathbf x} = \\mathbf{Ax} + \\mathbf{Bu}$. Once in this form we use of several techniques to convert these linear differential equations into the recursive equation:\n",
        "\n",
        "$$ \\mathbf x_k = \\mathbf{Fx}_{k-1} + \\mathbf B_k\\mathbf u_k$$\n",
        "\n",
        "Some books call the state transition matrix the *fundamental matrix*. Many use $\\mathbf \\Phi$ instead of $\\mathbf F$. Sources based heavily on control theory tend to use these forms.\n",
        "\n",
        "These are called *state-space* methods because we are expressing the solution of the differential equations in terms of the system state. "
      ]
    },
    {
      "cell_type": "markdown",
      "metadata": {
        "id": "-pHrhUoAvMUA"
      },
      "source": [
        "### Forming First Order Equations from Higher Order Equations\n",
        "\n",
        "Many models of physical systems require second or higher order differential equations with control input $u$:\n",
        "\n",
        "$$a_n \\frac{d^ny}{dt^n} + a_{n-1} \\frac{d^{n-1}y}{dt^{n-1}} +  \\dots + a_2 \\frac{d^2y}{dt^2} + a_1 \\frac{dy}{dt} + a_0 = u$$\n",
        "\n",
        "State-space methods require first-order equations. Any higher order system of equations can be reduced to first-order by defining extra variables for the derivatives and then solving. \n",
        "\n",
        "\n",
        "Let's do an example. Given the system $\\ddot{x} - 6\\dot x + 9x = u$ find the equivalent first order equations. I've used the dot notation for the time derivatives for clarity.\n",
        "\n",
        "The first step is to isolate the highest order term onto one side of the equation.\n",
        "\n",
        "$$\\ddot{x} = 6\\dot x - 9x + u$$\n",
        "\n",
        "We define two new variables:\n",
        "\n",
        "$$\\begin{aligned} x_1(t) &= x \\\\\n",
        "x_2(t) &= \\dot x\n",
        "\\end{aligned}$$\n",
        "\n",
        "Now we will substitute these into the original equation and solve. The solution yields a set of first-order equations in terms of these new variables. It is conventional to drop the $(t)$ for notational convenience.\n",
        "\n",
        "We know that $\\dot x_1 = x_2$ and that $\\dot x_2 = \\ddot{x}$. Therefore\n",
        "\n",
        "$$\\begin{aligned}\n",
        "\\dot x_2 &= \\ddot{x} \\\\\n",
        "         &= 6\\dot x - 9x + u\\\\\n",
        "         &= 6x_2-9x_1 + u\n",
        "\\end{aligned}$$\n",
        "\n",
        "Therefore our first-order system of equations is\n",
        "\n",
        "$$\\begin{aligned}\\dot x_1 &= x_2 \\\\\n",
        "\\dot x_2 &= 6x_2-9x_1 + u\\end{aligned}$$\n",
        "\n",
        "If you practice this a bit you will become adept at it. Isolate the highest term, define a new variable and its derivatives, and then substitute."
      ]
    },
    {
      "cell_type": "markdown",
      "metadata": {
        "id": "jkMlbD5WvMUB"
      },
      "source": [
        "### First Order Differential Equations In State-Space Form\n",
        "\n",
        "Substituting the newly defined variables from the previous section:\n",
        "\n",
        "$$\\frac{dx_1}{dt} = x_2,\\,  \n",
        "\\frac{dx_2}{dt} = x_3, \\, ..., \\, \n",
        "\\frac{dx_{n-1}}{dt} = x_n$$\n",
        "\n",
        "into the first order equations yields: \n",
        "\n",
        "$$\\frac{dx_n}{dt} = \\frac{1}{a_n}\\sum\\limits_{i=0}^{n-1}a_ix_{i+1} + \\frac{1}{a_n}u\n",
        "$$\n",
        "\n",
        "\n",
        "Using vector-matrix notation we have:\n",
        "\n",
        "$$\\begin{bmatrix}\\frac{dx_1}{dt} \\\\ \\frac{dx_2}{dt} \\\\ \\vdots \\\\ \\frac{dx_n}{dt}\\end{bmatrix} = \n",
        "\\begin{bmatrix}\\dot x_1 \\\\ \\dot x_2 \\\\ \\vdots \\\\ \\dot x_n\\end{bmatrix}=\n",
        "\\begin{bmatrix}0 & 1 & 0 &\\cdots & 0 \\\\\n",
        "0 & 0 & 1 & \\cdots & 0 \\\\\n",
        "\\vdots & \\vdots & \\vdots & \\ddots & \\vdots \\\\\n",
        "-\\frac{a_0}{a_n} & -\\frac{a_1}{a_n} & -\\frac{a_2}{a_n} & \\cdots & -\\frac{a_{n-1}}{a_n}\\end{bmatrix}\n",
        "\\begin{bmatrix}x_1 \\\\ x_2 \\\\ \\vdots \\\\ x_n\\end{bmatrix} + \n",
        "\\begin{bmatrix}0 \\\\ 0 \\\\ \\vdots \\\\ \\frac{1}{a_n}\\end{bmatrix}u$$\n",
        "\n",
        "which we then write as $\\dot{\\mathbf x} = \\mathbf{Ax} + \\mathbf{B}u$."
      ]
    },
    {
      "cell_type": "markdown",
      "metadata": {
        "id": "ufhARkgnvMUB"
      },
      "source": [
        "### Finding the Fundamental Matrix for Time Invariant Systems\n",
        "\n",
        "We express the system equations in state-space form with\n",
        "\n",
        "$$ \\dot{\\mathbf x} = \\mathbf{Ax}$$\n",
        "\n",
        "where $\\mathbf A$ is the system dynamics matrix, and want to find the *fundamental matrix* $\\mathbf F$ that propagates the state $\\mathbf x$ over the interval $\\Delta t$ with the equation\n",
        "\n",
        "$$\\begin{aligned}\n",
        "\\mathbf x(t_k) = \\mathbf F(\\Delta t)\\mathbf x(t_{k-1})\\end{aligned}$$\n",
        "\n",
        "In other words, $\\mathbf A$ is a set of continuous differential equations, and we need $\\mathbf F$ to be a set of discrete linear equations that computes the change in $\\mathbf A$ over a discrete time step.\n",
        "\n",
        "It is conventional to drop the $t_k$ and $(\\Delta t)$ and use the notation\n",
        "\n",
        "$$\\mathbf x_k = \\mathbf {Fx}_{k-1}$$\n",
        "\n",
        "Broadly speaking there are three common ways to find this matrix for Kalman filters. The technique most often used is the matrix exponential. Linear Time Invariant Theory, also known as LTI System Theory, is a second technique. Finally, there are numerical techniques. You may know of others, but these three are what you will most likely encounter in the Kalman filter literature and praxis."
      ]
    },
    {
      "cell_type": "markdown",
      "metadata": {
        "id": "nvP9pQXcvMUC"
      },
      "source": [
        "### The Matrix Exponential\n",
        "\n",
        "The solution to the equation $\\frac{dx}{dt} = kx$ can be found by:\n",
        "\n",
        "$$\\begin{gathered}\\frac{dx}{dt} = kx \\\\\n",
        "\\frac{dx}{x} = k\\, dt \\\\\n",
        "\\int \\frac{1}{x}\\, dx = \\int k\\, dt \\\\\n",
        "\\log x = kt + c \\\\\n",
        "x = e^{kt+c} \\\\\n",
        "x = e^ce^{kt} \\\\\n",
        "x = c_0e^{kt}\\end{gathered}$$\n",
        "\n",
        "When $t=0$, $x=x_0$. Substitute these to equation above.\n",
        "\n",
        "$$\\begin{gathered}x_0 = c_0e^{k(0)} \\\\\n",
        "x_0 = c_01 \\\\\n",
        "x_0 = c_0 \\\\\n",
        "x = x_0e^{kt}\\end{gathered}$$\n",
        "\n",
        "Using similar math, the solution to the first-order equation \n",
        "\n",
        "$$\\dot{\\mathbf x} = \\mathbf{Ax} ,\\, \\, \\, \\mathbf x(0) = \\mathbf x_0$$\n",
        "\n",
        "where $\\mathbf A$ is a constant matrix, is\n",
        "\n",
        "$$\\mathbf x = e^{\\mathbf At}\\mathbf x_0$$\n",
        "\n",
        "Substituting $F = e^{\\mathbf At}$, we can write \n",
        "\n",
        "$$\\mathbf x_k = \\mathbf F\\mathbf x_{k-1}$$\n",
        "\n",
        "which is the form we are looking for! We have reduced the problem of finding the fundamental matrix to one of finding the value for $e^{\\mathbf At}$.\n",
        "\n",
        "$e^{\\mathbf At}$ is known as the [matrix exponential](https://en.wikipedia.org/wiki/Matrix_exponential). It can be computed with this power series:\n",
        "\n",
        "$$e^{\\mathbf At} = \\mathbf{I} + \\mathbf{A}t  + \\frac{(\\mathbf{A}t)^2}{2!} + \\frac{(\\mathbf{A}t)^3}{3!} + ... $$\n",
        "\n",
        "That series is found by doing a Taylor series expansion of $e^{\\mathbf At}$, which I will not cover here.\n",
        "\n",
        "Let's use this to find the solution to Newton's equations. Using $v$ as a substitution for $\\dot x$, and assuming constant velocity we get the linear matrix-vector form \n",
        "\n",
        "$$\\begin{bmatrix}\\dot x \\\\ \\dot v\\end{bmatrix} =\\begin{bmatrix}0&1\\\\0&0\\end{bmatrix} \\begin{bmatrix}x \\\\ v\\end{bmatrix}$$\n",
        "\n",
        "This is a first order differential equation, so we can set $\\mathbf{A}=\\begin{bmatrix}0&1\\\\0&0\\end{bmatrix}$ and solve the following equation. I have substituted the interval $\\Delta t$ for $t$ to emphasize that the fundamental matrix is discrete:\n",
        "\n",
        "$$\\mathbf F = e^{\\mathbf A\\Delta t} = \\mathbf{I} + \\mathbf A\\Delta t  + \\frac{(\\mathbf A\\Delta t)^2}{2!} + \\frac{(\\mathbf A\\Delta t)^3}{3!} + ... $$\n",
        "\n",
        "If you perform the multiplication you will find that $\\mathbf{A}^2=\\begin{bmatrix}0&0\\\\0&0\\end{bmatrix}$, which means that all higher powers of $\\mathbf{A}$ are also $\\mathbf{0}$. Thus we get an exact answer without an infinite number of terms:\n",
        "\n",
        "$$\n",
        "\\begin{aligned}\n",
        "\\mathbf F &=\\mathbf{I} + \\mathbf A \\Delta t + \\mathbf{0} \\\\\n",
        "&= \\begin{bmatrix}1&0\\\\0&1\\end{bmatrix} + \\begin{bmatrix}0&1\\\\0&0\\end{bmatrix}\\Delta t\\\\\n",
        "&= \\begin{bmatrix}1&\\Delta t\\\\0&1\\end{bmatrix}\n",
        "\\end{aligned}$$\n",
        "\n",
        "We plug this into $\\mathbf x_k= \\mathbf{Fx}_{k-1}$ to get\n",
        "\n",
        "$$\n",
        "\\begin{aligned}\n",
        "x_k &=\\begin{bmatrix}1&\\Delta t\\\\0&1\\end{bmatrix}x_{k-1}\n",
        "\\end{aligned}$$\n",
        "\n",
        "You will recognize this as the matrix we derived analytically for the constant velocity Kalman filter in the **Multivariate Kalman Filter** chapter.\n",
        "\n",
        "SciPy's linalg module includes a routine `expm()` to compute the matrix exponential. It does not use the Taylor series method, but the [Padé Approximation](https://en.wikipedia.org/wiki/Pad%C3%A9_approximant). There are many (at least 19) methods to compute the matrix exponential, and all suffer from numerical difficulties[1]. You should be aware of the problems, especially when $\\mathbf A$ is large. If you search for \"pade approximation matrix exponential\" you will find many publications devoted to this problem. \n",
        "\n",
        "In practice this may not be of concern to you as for the Kalman filter we normally just take the first two terms of the Taylor series. But don't assume my treatment of the problem is complete and run off and try to use this technique for other problem without doing a numerical analysis of the performance of this technique. Interestingly, one of the favored ways of solving $e^{\\mathbf At}$ is to use a generalized ode solver. In other words, they do the opposite of what we do - turn $\\mathbf A$ into a set of differential equations, and then solve that set using numerical techniques! \n",
        "\n",
        "Here is an example of using `expm()` to solve $e^{\\mathbf At}$."
      ]
    },
    {
      "cell_type": "code",
      "execution_count": 69,
      "metadata": {
        "id": "gDYR-Oi4vMUD",
        "outputId": "e9c2f107-f260-4bf1-d7ef-c590f9d180f3",
        "colab": {
          "base_uri": "https://localhost:8080/"
        }
      },
      "outputs": [
        {
          "output_type": "execute_result",
          "data": {
            "text/plain": [
              "array([[1. , 0.1],\n",
              "       [0. , 1. ]])"
            ]
          },
          "metadata": {},
          "execution_count": 69
        }
      ],
      "source": [
        "import numpy as np\n",
        "from scipy.linalg import expm\n",
        "\n",
        "dt = 0.1\n",
        "A = np.array([[0, 1], \n",
        "              [0, 0]])\n",
        "expm(A*dt)"
      ]
    },
    {
      "cell_type": "markdown",
      "metadata": {
        "id": "aZ95S23CvMUD"
      },
      "source": [
        "### Time Invariance\n",
        "\n",
        "If the behavior of the system depends on time we can say that a dynamic system is described by the first-order differential equation\n",
        "\n",
        "$$ g(t) = \\dot x$$\n",
        "\n",
        "However, if the system is *time invariant* the equation is of the form:\n",
        "\n",
        "$$ f(x) = \\dot x$$\n",
        "\n",
        "What does *time invariant* mean? Consider a home stereo. If you input a signal $x$ into it at time $t$, it will output some signal $f(x)$. If you instead perform the input at time $t + \\Delta t$ the output signal will be the same $f(x)$, shifted in time.\n",
        "\n",
        "A counter-example is $x(t) = \\sin(t)$, with the system  $f(x) = t\\,  x(t) = t \\sin(t)$. This is not time invariant; the value will be different at different times due to the multiplication by t.  An aircraft is not time invariant. If you make a control input to the aircraft at a later time its behavior will be different because it will have burned fuel and thus lost weight. Lower weight results in different behavior.\n",
        "\n",
        "We can solve these equations by integrating each side. I demonstrated integrating the time invariant system $v = \\dot x$ above. However, integrating the time invariant equation $\\dot x = f(x)$ is not so straightforward. Using the *separation of variables* techniques we divide by $f(x)$ and move the $dt$ term to the right so we can integrate each side:\n",
        "\n",
        "$$\\begin{gathered}\n",
        "\\frac{dx}{dt} = f(x) \\\\\n",
        "\\int^x_{x_0} \\frac{1}{f(x)} dx = \\int^t_{t_0} dt\n",
        "\\end{gathered}$$\n",
        "\n",
        "If we let $F(x) = \\int \\frac{1}{f(x)} dx$ we get\n",
        "\n",
        "$$F(x) - F(x_0) = t-t_0$$\n",
        "\n",
        "We then solve for x with\n",
        "\n",
        "$$\\begin{gathered}\n",
        "F(x) = t - t_0 + F(x_0) \\\\\n",
        "x = F^{-1}[t-t_0 + F(x_0)]\n",
        "\\end{gathered}$$\n",
        "\n",
        "In other words, we need to find the inverse of $F$. This is not trivial, and a significant amount of coursework in a STEM education is devoted to finding tricky, analytic solutions to this problem. \n",
        "\n",
        "However, they are tricks, and many simple forms of $f(x)$ either have no closed form solution or pose extreme difficulties. Instead, the practicing engineer turns to state-space methods to find approximate solutions.\n",
        "\n",
        "The advantage of the matrix exponential is that we can use it for any arbitrary set of differential equations which are *time invariant*. However, we often use this technique even when the equations are not time invariant. As an aircraft flies it burns fuel and loses weight. However, the weight loss over one second is negligible, and so the system is nearly linear over that time step. Our answers will still be reasonably accurate so long as the time step is short."
      ]
    },
    {
      "cell_type": "markdown",
      "metadata": {
        "id": "f-T2CNpvvMUD"
      },
      "source": [
        "#### Example: Mass-Spring-Damper Model\n",
        "\n",
        "Suppose we wanted to track the motion of a weight on a spring and connected to a damper, such as an automobile's suspension. The equation for the motion with $m$ being the mass, $k$ the spring constant, and $c$ the damping force, under some input $u$ is \n",
        "\n",
        "$$m\\frac{d^2x}{dt^2} + c\\frac{dx}{dt} +kx = u$$\n",
        "\n",
        "For notational convenience I will write that as\n",
        "\n",
        "$$m\\ddot x + c\\dot x + kx = u$$\n",
        "\n",
        "I can turn this into a system of first order equations by setting $x_1(t)=x(t)$, and then substituting as follows:\n",
        "\n",
        "$$\\begin{aligned}\n",
        "x_1 &= x \\\\\n",
        "x_2 &= \\dot x_1 \\\\\n",
        "\\dot x_2 &= \\ddot x_1 = \\ddot x\n",
        "\\end{aligned}$$\n",
        "\n",
        "As is common I dropped the $(t)$ for notational convenience. This gives the equation\n",
        "\n",
        "$$m\\dot x_2 + c x_2 +kx_1 = u$$\n",
        "\n",
        "Solving for $\\dot x_2$ we get a first order equation:\n",
        "\n",
        "$$\\dot x_2 = -\\frac{c}{m}x_2 - \\frac{k}{m}x_1 + \\frac{1}{m}u$$\n",
        "\n",
        "We put this into matrix form:\n",
        "\n",
        "$$\\begin{bmatrix} \\dot x_1 \\\\ \\dot x_2 \\end{bmatrix} = \n",
        "\\begin{bmatrix}0 & 1 \\\\ -k/m & -c/m \\end{bmatrix}\n",
        "\\begin{bmatrix} x_1 \\\\ x_2 \\end{bmatrix} + \n",
        "\\begin{bmatrix} 0 \\\\ 1/m \\end{bmatrix}u$$\n",
        "\n",
        "Now we use the matrix exponential to find the state transition matrix:\n",
        "\n",
        "$$\\Phi(t) = e^{\\mathbf At} = \\mathbf{I} + \\mathbf At  + \\frac{(\\mathbf At)^2}{2!} + \\frac{(\\mathbf At)^3}{3!} + ... $$\n",
        "\n",
        "The first two terms give us\n",
        "\n",
        "$$\\mathbf F = \\begin{bmatrix}1 & t \\\\ -(k/m) t & 1-(c/m) t \\end{bmatrix}$$\n",
        "\n",
        "This may or may not give you enough precision. You can easily check this by computing $\\frac{(\\mathbf At)^2}{2!}$ for your constants and seeing how much this matrix contributes to the results."
      ]
    },
    {
      "cell_type": "markdown",
      "metadata": {
        "id": "jrAojAL8vMUE"
      },
      "source": [
        "### Linear Time Invariant Theory\n",
        "\n",
        "[*Linear Time Invariant Theory*](https://en.wikipedia.org/wiki/LTI_system_theory), also known as LTI System Theory, gives us a way to find $\\Phi$ using the inverse Laplace transform. You are either nodding your head now, or completely lost.  I will not be using the Laplace transform in this book. LTI system theory tells us that \n",
        "\n",
        "$$ \\Phi(t) = \\mathcal{L}^{-1}[(s\\mathbf{I} - \\mathbf{A})^{-1}]$$\n",
        "\n",
        "I have no intention of going into this other than to say that the Laplace transform $\\mathcal{L}$ converts a signal into a space $s$ that excludes time, but finding a solution to the equation above is non-trivial. If you are interested, the Wikipedia article on LTI system theory provides an introduction. I mention LTI because you will find some literature using it to design the Kalman filter matrices for difficult problems. "
      ]
    },
    {
      "cell_type": "markdown",
      "metadata": {
        "id": "vr5OWQiZvMUE"
      },
      "source": [
        "### Numerical Solutions\n",
        "\n",
        "Finally, there are numerical techniques to find $\\mathbf F$. As filters get larger finding analytical solutions becomes very tedious (though packages like SymPy make it easier). C. F. van Loan [2] has developed a technique that finds both $\\Phi$ and $\\mathbf Q$ numerically. Given the continuous model\n",
        "\n",
        "$$ \\dot x = Ax + Gw$$\n",
        "\n",
        "where $w$ is the unity white noise, van Loan's method computes both $\\mathbf F_k$ and $\\mathbf Q_k$.\n",
        "    \n",
        "I have implemented van Loan's method in `FilterPy`. You may use it as follows:\n",
        "\n",
        "```python\n",
        "from filterpy.common import van_loan_discretization\n",
        "\n",
        "A = np.array([[0., 1.], [-1., 0.]])\n",
        "G = np.array([[0.], [2.]]) # white noise scaling\n",
        "F, Q = van_loan_discretization(A, G, dt=0.1)\n",
        "```\n",
        "    \n",
        "In the section *Numeric Integration of Differential Equations* I present alternative methods which are very commonly used in Kalman filtering."
      ]
    },
    {
      "cell_type": "markdown",
      "metadata": {
        "id": "Ah5mp0EtvMUE"
      },
      "source": [
        "## Design of the Process Noise Matrix\n",
        "\n",
        "In general the design of the $\\mathbf Q$ matrix is among the most difficult aspects of Kalman filter design. This is due to several factors. First, the math requires a good foundation in signal theory. Second, we are trying to model the noise in something for which we have little information. Consider trying to model the process noise for a thrown baseball. We can model it as a sphere moving through the air, but that leaves many unknown factors - ball rotation and spin decay, the coefficient of drag of a ball with stitches, the effects of wind and air density, and so on. We develop the equations for an exact mathematical solution for a given process model, but since the process model is incomplete the result for $\\mathbf Q$ will also be incomplete. This has a lot of ramifications for the behavior of the Kalman filter. If $\\mathbf Q$ is too small then the filter will be overconfident in its prediction model and will diverge from the actual solution. If $\\mathbf Q$ is too large than the filter will be unduly influenced by the noise in the measurements and perform sub-optimally. In practice we spend a lot of time running simulations and evaluating collected data to try to select an appropriate value for $\\mathbf Q$. But let's start by looking at the math.\n",
        "\n",
        "\n",
        "Let's assume a kinematic system - some system that can be modeled using Newton's equations of motion. We can make a few different assumptions about this process. \n",
        "\n",
        "We have been using a process model of\n",
        "\n",
        "$$ \\dot{\\mathbf x} = \\mathbf{Ax} + \\mathbf{Bu} + \\mathbf{w}$$\n",
        "\n",
        "where $\\mathbf{w}$ is the process noise. Kinematic systems are *continuous* - their inputs and outputs can vary at any arbitrary point in time. However, our Kalman filters are *discrete* (there are continuous forms for Kalman filters, but we do not cover them in this book). We sample the system at regular intervals. Therefore we must find the discrete representation for the noise term in the equation above. This depends on what assumptions we make about the behavior of the noise. We will consider two different models for the noise."
      ]
    },
    {
      "cell_type": "markdown",
      "metadata": {
        "id": "hNeeJdZZvMUE"
      },
      "source": [
        "### Continuous White Noise Model"
      ]
    },
    {
      "cell_type": "markdown",
      "metadata": {
        "id": "v42XxEhBvMUF"
      },
      "source": [
        "We model kinematic systems using Newton's equations. We have either used position and velocity, or position, velocity, and acceleration as the models for our systems. There is nothing stopping us from going further - we can model jerk, jounce, snap, and so on. We don't do that normally because adding terms beyond the dynamics of the real system degrades the estimate. \n",
        "\n",
        "Let's say that we need to model the position, velocity, and acceleration. We can then assume that acceleration is constant for each discrete time step. Of course, there is process noise in the system and so the acceleration is not actually constant. The tracked object will alter the acceleration over time due to external, unmodeled forces. In this section we will assume that the acceleration changes by a continuous time zero-mean white noise $w(t)$. In other words, we are assuming that the small changes in velocity average to 0 over time (zero-mean). \n",
        "\n",
        "Since the noise is changing continuously we will need to integrate to get the discrete noise for the discretization interval that we have chosen. We will not prove it here, but the equation for the discretization of the noise is\n",
        "\n",
        "$$\\mathbf Q = \\int_0^{\\Delta t} \\mathbf F(t)\\mathbf{Q_c}\\mathbf F^\\mathsf{T}(t) dt$$\n",
        "\n",
        "where $\\mathbf{Q_c}$ is the continuous noise. The general reasoning should be clear. $\\mathbf F(t)\\mathbf{Q_c}\\mathbf F^\\mathsf{T}(t)$ is a projection of the continuous noise based on our process model $\\mathbf F(t)$ at the instant $t$. We want to know how much noise is added to the system over a discrete intervat $\\Delta t$, so we integrate this expression over the interval $[0, \\Delta t]$. \n",
        "\n",
        "We know the fundamental matrix for Newtonian systems is\n",
        "\n",
        "$$F = \\begin{bmatrix}1 & \\Delta t & {\\Delta t}^2/2 \\\\ 0 & 1 & \\Delta t\\\\ 0& 0& 1\\end{bmatrix}$$\n",
        "\n",
        "We define the continuous noise as \n",
        "\n",
        "$$\\mathbf{Q_c} = \\begin{bmatrix}0&0&0\\\\0&0&0\\\\0&0&1\\end{bmatrix} \\Phi_s$$\n",
        "\n",
        "where $\\Phi_s$ is the spectral density of the white noise. This can be derived, but is beyond the scope of this book. See any standard text on stochastic processes for the details. In practice we often do not know the spectral density of the noise, and so this turns into an \"engineering\" factor - a number we experimentally tune until our filter performs as we expect. You can see that the matrix that $\\Phi_s$ is multiplied by effectively assigns the power spectral density to the acceleration term. This makes sense; we assume that the system has constant acceleration except for the variations caused by noise. The noise alters the acceleration.\n",
        "\n",
        "We could carry out these computations ourselves, but I prefer using SymPy to solve the equation.\n",
        "\n",
        "$$\\mathbf{Q_c} = \\begin{bmatrix}0&0&0\\\\0&0&0\\\\0&0&1\\end{bmatrix} \\Phi_s$$\n",
        "\n"
      ]
    },
    {
      "cell_type": "code",
      "execution_count": 70,
      "metadata": {
        "id": "mycXXwlZvMUF",
        "outputId": "027b62c3-43a8-44b9-c91d-a7c0c08fe05a",
        "colab": {
          "base_uri": "https://localhost:8080/",
          "height": 17
        }
      },
      "outputs": [
        {
          "output_type": "execute_result",
          "data": {
            "text/plain": [
              "⎡         5           4           3⎤      \n",
              "⎢\\Delta{t}   \\Delta{t}   \\Delta{t} ⎥      \n",
              "⎢──────────  ──────────  ──────────⎥      \n",
              "⎢    20          8           6     ⎥      \n",
              "⎢                                  ⎥      \n",
              "⎢         4           3           2⎥      \n",
              "⎢\\Delta{t}   \\Delta{t}   \\Delta{t} ⎥      \n",
              "⎢──────────  ──────────  ──────────⎥⋅\\Phiₛ\n",
              "⎢    8           3           2     ⎥      \n",
              "⎢                                  ⎥      \n",
              "⎢         3           2            ⎥      \n",
              "⎢\\Delta{t}   \\Delta{t}             ⎥      \n",
              "⎢──────────  ──────────  \\Delta{t} ⎥      \n",
              "⎣    6           2                 ⎦      "
            ],
            "text/latex": "$\\displaystyle \\left[\\begin{matrix}\\frac{\\Delta{t}^{5}}{20} & \\frac{\\Delta{t}^{4}}{8} & \\frac{\\Delta{t}^{3}}{6}\\\\\\frac{\\Delta{t}^{4}}{8} & \\frac{\\Delta{t}^{3}}{3} & \\frac{\\Delta{t}^{2}}{2}\\\\\\frac{\\Delta{t}^{3}}{6} & \\frac{\\Delta{t}^{2}}{2} & \\Delta{t}\\end{matrix}\\right] \\Phi_{s}$"
          },
          "metadata": {},
          "execution_count": 70
        }
      ],
      "source": [
        "import sympy\n",
        "from sympy import (init_printing, Matrix, MatMul, \n",
        "                   integrate, symbols)\n",
        "\n",
        "init_printing(use_latex='mathjax')\n",
        "dt, phi = symbols('\\Delta{t} \\Phi_s')\n",
        "F_k = Matrix([[1, dt, dt**2/2],\n",
        "              [0,  1,      dt],\n",
        "              [0,  0,       1]])\n",
        "Q_c = Matrix([[0, 0, 0],\n",
        "              [0, 0, 0],\n",
        "              [0, 0, 1]])*phi\n",
        "\n",
        "Q = integrate(F_k * Q_c * F_k.T, (dt, 0, dt))\n",
        "\n",
        "# factor phi out of the matrix to make it more readable\n",
        "Q = Q / phi\n",
        "MatMul(Q, phi)"
      ]
    },
    {
      "cell_type": "markdown",
      "metadata": {
        "id": "iZQ4vDWqvMUF"
      },
      "source": [
        "For completeness, let us compute the equations for the 0th order and 1st order equations."
      ]
    },
    {
      "cell_type": "code",
      "execution_count": 71,
      "metadata": {
        "id": "BpWq_rvNvMUF",
        "outputId": "35da38a3-a0f1-4574-ae7d-0edb3c9eac6f",
        "colab": {
          "base_uri": "https://localhost:8080/",
          "height": 56
        }
      },
      "outputs": [
        {
          "output_type": "stream",
          "name": "stdout",
          "text": [
            "0th order discrete process noise\n"
          ]
        },
        {
          "output_type": "execute_result",
          "data": {
            "text/plain": [
              "[\\Delta{t}⋅\\Phiₛ]"
            ],
            "text/latex": "$\\displaystyle \\left[\\begin{matrix}\\Delta{t} \\Phi_{s}\\end{matrix}\\right]$"
          },
          "metadata": {},
          "execution_count": 71
        }
      ],
      "source": [
        "F_k = Matrix([[1]])\n",
        "Q_c = Matrix([[phi]])\n",
        "\n",
        "print('0th order discrete process noise')\n",
        "integrate(F_k*Q_c*F_k.T,(dt, 0, dt))"
      ]
    },
    {
      "cell_type": "code",
      "execution_count": 72,
      "metadata": {
        "id": "MPqo2W7pvMUG",
        "outputId": "1dbb344a-7fc5-4379-e889-00b153184255",
        "colab": {
          "base_uri": "https://localhost:8080/",
          "height": 85
        }
      },
      "outputs": [
        {
          "output_type": "stream",
          "name": "stdout",
          "text": [
            "1st order discrete process noise\n"
          ]
        },
        {
          "output_type": "execute_result",
          "data": {
            "text/plain": [
              "⎡         3           2⎤      \n",
              "⎢\\Delta{t}   \\Delta{t} ⎥      \n",
              "⎢──────────  ──────────⎥      \n",
              "⎢    3           2     ⎥      \n",
              "⎢                      ⎥⋅\\Phiₛ\n",
              "⎢         2            ⎥      \n",
              "⎢\\Delta{t}             ⎥      \n",
              "⎢──────────  \\Delta{t} ⎥      \n",
              "⎣    2                 ⎦      "
            ],
            "text/latex": "$\\displaystyle \\left[\\begin{matrix}\\frac{\\Delta{t}^{3}}{3} & \\frac{\\Delta{t}^{2}}{2}\\\\\\frac{\\Delta{t}^{2}}{2} & \\Delta{t}\\end{matrix}\\right] \\Phi_{s}$"
          },
          "metadata": {},
          "execution_count": 72
        }
      ],
      "source": [
        "F_k = Matrix([[1, dt],\n",
        "              [0, 1]])\n",
        "Q_c = Matrix([[0, 0],\n",
        "              [0, 1]]) * phi\n",
        "\n",
        "Q = integrate(F_k * Q_c * F_k.T, (dt, 0, dt))\n",
        "\n",
        "print('1st order discrete process noise')\n",
        "# factor phi out of the matrix to make it more readable\n",
        "Q = Q / phi\n",
        "MatMul(Q, phi)"
      ]
    },
    {
      "cell_type": "markdown",
      "metadata": {
        "id": "AuE8YJ7DvMUG"
      },
      "source": [
        "### Piecewise White Noise Model\n",
        "\n",
        "Another model for the noise assumes that the that highest order term (say, acceleration) is constant for the duration of each time period, but differs for each time period, and each of these is uncorrelated between time periods. In other words there is a discontinuous jump in acceleration at each time step. This is subtly different than the model above, where we assumed that the last term had a continuously varying noisy signal applied to it.  \n",
        "\n",
        "We will model this as\n",
        "\n",
        "$$f(x)=Fx+\\Gamma w$$\n",
        "\n",
        "where $\\Gamma$ is the *noise gain* of the system, and $w$ is the constant piecewise acceleration (or velocity, or jerk, etc). \n",
        "\n",
        "Let's start by looking at a first order system. In this case we have the state transition function\n",
        "\n",
        "$$\\mathbf{F} = \\begin{bmatrix}1&\\Delta t \\\\ 0& 1\\end{bmatrix}$$\n",
        "\n",
        "In one time period, the change in velocity will be $w(t)\\Delta t$, and the change in position will be $w(t)\\Delta t^2/2$, giving us\n",
        "\n",
        "$$\\Gamma = \\begin{bmatrix}\\frac{1}{2}\\Delta t^2 \\\\ \\Delta t\\end{bmatrix}$$\n",
        "\n",
        "The covariance of the process noise is then\n",
        "\n",
        "$$Q = \\mathbb E[\\Gamma w(t) w(t) \\Gamma^\\mathsf{T}] = \\Gamma\\sigma^2_v\\Gamma^\\mathsf{T}$$.\n",
        "\n",
        "We can compute that with SymPy as follows"
      ]
    },
    {
      "cell_type": "code",
      "execution_count": 73,
      "metadata": {
        "id": "bhsPK2pevMUG",
        "outputId": "26f14232-3945-40d4-8e12-9bf0ffc8298d",
        "colab": {
          "base_uri": "https://localhost:8080/",
          "height": 68
        }
      },
      "outputs": [
        {
          "output_type": "execute_result",
          "data": {
            "text/plain": [
              "⎡         4           3⎤    \n",
              "⎢\\Delta{t}   \\Delta{t} ⎥    \n",
              "⎢──────────  ──────────⎥    \n",
              "⎢    4           2     ⎥    \n",
              "⎢                      ⎥⋅σ²ᵥ\n",
              "⎢         3            ⎥    \n",
              "⎢\\Delta{t}            2⎥    \n",
              "⎢──────────  \\Delta{t} ⎥    \n",
              "⎣    2                 ⎦    "
            ],
            "text/latex": "$\\displaystyle \\left[\\begin{matrix}\\frac{\\Delta{t}^{4}}{4} & \\frac{\\Delta{t}^{3}}{2}\\\\\\frac{\\Delta{t}^{3}}{2} & \\Delta{t}^{2}\\end{matrix}\\right] \\sigma^{2}_{v}$"
          },
          "metadata": {},
          "execution_count": 73
        }
      ],
      "source": [
        "var = symbols('sigma^2_v')\n",
        "v = Matrix([[dt**2 / 2], [dt]])\n",
        "\n",
        "Q = v * var * v.T\n",
        "\n",
        "# factor variance out of the matrix to make it more readable\n",
        "Q = Q / var\n",
        "MatMul(Q, var)"
      ]
    },
    {
      "cell_type": "markdown",
      "metadata": {
        "id": "oT30i9N9vMUG"
      },
      "source": [
        "The second order system proceeds with the same math.\n",
        "\n",
        "\n",
        "$$\\mathbf{F} = \\begin{bmatrix}1 & \\Delta t & {\\Delta t}^2/2 \\\\ 0 & 1 & \\Delta t\\\\ 0& 0& 1\\end{bmatrix}$$\n",
        "\n",
        "Here we will assume that the white noise is a discrete time Wiener process. This gives us\n",
        "\n",
        "$$\\Gamma = \\begin{bmatrix}\\frac{1}{2}\\Delta t^2 \\\\ \\Delta t\\\\ 1\\end{bmatrix}$$\n",
        "\n",
        "There is no 'truth' to this model, it is just convenient and provides good results. For example, we could assume that the noise is applied to the jerk at the cost of a more complicated equation. \n",
        "\n",
        "The covariance of the process noise is then\n",
        "\n",
        "$$Q = \\mathbb E[\\Gamma w(t) w(t) \\Gamma^\\mathsf{T}] = \\Gamma\\sigma^2_v\\Gamma^\\mathsf{T}$$.\n",
        "\n",
        "We can compute that with SymPy as follows"
      ]
    },
    {
      "cell_type": "code",
      "execution_count": 74,
      "metadata": {
        "id": "K7ZaWg4HvMUG",
        "outputId": "29768c44-b07e-4b13-ea4e-88c05a934b8f",
        "colab": {
          "base_uri": "https://localhost:8080/",
          "height": 88
        }
      },
      "outputs": [
        {
          "output_type": "execute_result",
          "data": {
            "text/plain": [
              "⎡         4           3           2⎤    \n",
              "⎢\\Delta{t}   \\Delta{t}   \\Delta{t} ⎥    \n",
              "⎢──────────  ──────────  ──────────⎥    \n",
              "⎢    4           2           2     ⎥    \n",
              "⎢                                  ⎥    \n",
              "⎢         3                        ⎥    \n",
              "⎢\\Delta{t}            2            ⎥    \n",
              "⎢──────────  \\Delta{t}   \\Delta{t} ⎥⋅σ²ᵥ\n",
              "⎢    2                             ⎥    \n",
              "⎢                                  ⎥    \n",
              "⎢         2                        ⎥    \n",
              "⎢\\Delta{t}                         ⎥    \n",
              "⎢──────────  \\Delta{t}       1     ⎥    \n",
              "⎣    2                             ⎦    "
            ],
            "text/latex": "$\\displaystyle \\left[\\begin{matrix}\\frac{\\Delta{t}^{4}}{4} & \\frac{\\Delta{t}^{3}}{2} & \\frac{\\Delta{t}^{2}}{2}\\\\\\frac{\\Delta{t}^{3}}{2} & \\Delta{t}^{2} & \\Delta{t}\\\\\\frac{\\Delta{t}^{2}}{2} & \\Delta{t} & 1\\end{matrix}\\right] \\sigma^{2}_{v}$"
          },
          "metadata": {},
          "execution_count": 74
        }
      ],
      "source": [
        "var = symbols('sigma^2_v')\n",
        "v = Matrix([[dt**2 / 2], [dt], [1]])\n",
        "\n",
        "Q = v * var * v.T\n",
        "\n",
        "# factor variance out of the matrix to make it more readable\n",
        "Q = Q / var\n",
        "MatMul(Q, var)"
      ]
    },
    {
      "cell_type": "markdown",
      "metadata": {
        "id": "ctNKofY0vMUH"
      },
      "source": [
        "We cannot say that this model is more or less correct than the continuous model - both are approximations to what is happening to the actual object. Only experience and experiments can guide you to the appropriate model. In practice you will usually find that either model provides reasonable results, but typically one will perform better than the other.\n",
        "\n",
        "The advantage of the second model is that we can model the noise in terms of $\\sigma^2$ which we can describe in terms of the motion and the amount of error we expect. The first model requires us to specify the spectral density, which is not very intuitive, but it handles varying time samples much more easily since the noise is integrated across the time period. However, these are not fixed rules - use whichever model (or a model of your own devising) based on testing how the filter performs and/or your knowledge of the behavior of the physical model.\n",
        "\n",
        "A good rule of thumb is to set $\\sigma$ somewhere from $\\frac{1}{2}\\Delta a$ to $\\Delta a$, where $\\Delta a$ is the maximum amount that the acceleration will change between sample periods. In practice we pick a number, run simulations on data, and choose a value that works well."
      ]
    },
    {
      "cell_type": "markdown",
      "metadata": {
        "id": "nIbRavunvMUH"
      },
      "source": [
        "### Using FilterPy to Compute Q\n",
        "\n",
        "FilterPy offers several routines to compute the $\\mathbf Q$ matrix. The function `Q_continuous_white_noise()` computes $\\mathbf Q$ for a given value for $\\Delta t$ and the spectral density."
      ]
    },
    {
      "cell_type": "code",
      "source": [
        "#!pip install filterpy"
      ],
      "metadata": {
        "id": "BSjVgQ9WvtJG",
        "outputId": "f2844e49-26c6-41e1-ad79-4fa6a3a60f85",
        "colab": {
          "base_uri": "https://localhost:8080/"
        }
      },
      "execution_count": 75,
      "outputs": [
        {
          "output_type": "stream",
          "name": "stdout",
          "text": [
            "Looking in indexes: https://pypi.org/simple, https://us-python.pkg.dev/colab-wheels/public/simple/\n",
            "Requirement already satisfied: filterpy in /usr/local/lib/python3.7/dist-packages (1.4.5)\n",
            "Requirement already satisfied: numpy in /usr/local/lib/python3.7/dist-packages (from filterpy) (1.21.6)\n",
            "Requirement already satisfied: matplotlib in /usr/local/lib/python3.7/dist-packages (from filterpy) (3.2.2)\n",
            "Requirement already satisfied: scipy in /usr/local/lib/python3.7/dist-packages (from filterpy) (1.4.1)\n",
            "Requirement already satisfied: cycler>=0.10 in /usr/local/lib/python3.7/dist-packages (from matplotlib->filterpy) (0.11.0)\n",
            "Requirement already satisfied: kiwisolver>=1.0.1 in /usr/local/lib/python3.7/dist-packages (from matplotlib->filterpy) (1.4.2)\n",
            "Requirement already satisfied: python-dateutil>=2.1 in /usr/local/lib/python3.7/dist-packages (from matplotlib->filterpy) (2.8.2)\n",
            "Requirement already satisfied: pyparsing!=2.0.4,!=2.1.2,!=2.1.6,>=2.0.1 in /usr/local/lib/python3.7/dist-packages (from matplotlib->filterpy) (3.0.9)\n",
            "Requirement already satisfied: typing-extensions in /usr/local/lib/python3.7/dist-packages (from kiwisolver>=1.0.1->matplotlib->filterpy) (4.2.0)\n",
            "Requirement already satisfied: six>=1.5 in /usr/local/lib/python3.7/dist-packages (from python-dateutil>=2.1->matplotlib->filterpy) (1.15.0)\n"
          ]
        }
      ]
    },
    {
      "cell_type": "code",
      "execution_count": 76,
      "metadata": {
        "id": "Itpwq18kvMUH",
        "outputId": "1e747774-f56b-46fc-959a-315cb432f7a8",
        "colab": {
          "base_uri": "https://localhost:8080/"
        }
      },
      "outputs": [
        {
          "output_type": "stream",
          "name": "stdout",
          "text": [
            "[[0.333 0.5  ]\n",
            " [0.5   1.   ]]\n"
          ]
        }
      ],
      "source": [
        "from filterpy.common import Q_continuous_white_noise\n",
        "from filterpy.common import Q_discrete_white_noise\n",
        "\n",
        "Q = Q_continuous_white_noise(dim=2, dt=1, spectral_density=1)\n",
        "print(Q)"
      ]
    },
    {
      "cell_type": "code",
      "execution_count": 77,
      "metadata": {
        "id": "aQiA67suvMUH",
        "outputId": "cb81cf65-bbf1-4005-a5de-0a6367535560",
        "colab": {
          "base_uri": "https://localhost:8080/"
        }
      },
      "outputs": [
        {
          "output_type": "stream",
          "name": "stdout",
          "text": [
            "[[0.05  0.125 0.167]\n",
            " [0.125 0.333 0.5  ]\n",
            " [0.167 0.5   1.   ]]\n"
          ]
        }
      ],
      "source": [
        "Q = Q_continuous_white_noise(dim=3, dt=1, spectral_density=1)\n",
        "print(Q)"
      ]
    },
    {
      "cell_type": "markdown",
      "metadata": {
        "id": "j5P1mBiQvMUH"
      },
      "source": [
        "The function `Q_discrete_white_noise()` computes $\\mathbf Q$ assuming a piecewise model for the noise."
      ]
    },
    {
      "cell_type": "code",
      "execution_count": 78,
      "metadata": {
        "id": "Zx-edAugvMUH",
        "outputId": "0bbf3c70-28dd-40d4-f4af-fac2398666ec",
        "colab": {
          "base_uri": "https://localhost:8080/"
        }
      },
      "outputs": [
        {
          "output_type": "stream",
          "name": "stdout",
          "text": [
            "[[0.25 0.5 ]\n",
            " [0.5  1.  ]]\n"
          ]
        }
      ],
      "source": [
        "Q = Q_discrete_white_noise(2, var=1.)\n",
        "print(Q)"
      ]
    },
    {
      "cell_type": "code",
      "execution_count": 79,
      "metadata": {
        "id": "thnqJuBlvMUI",
        "outputId": "f286c86e-6acd-4a69-f9bd-f14ae5489022",
        "colab": {
          "base_uri": "https://localhost:8080/"
        }
      },
      "outputs": [
        {
          "output_type": "stream",
          "name": "stdout",
          "text": [
            "[[0.25 0.5  0.5 ]\n",
            " [0.5  1.   1.  ]\n",
            " [0.5  1.   1.  ]]\n"
          ]
        }
      ],
      "source": [
        "Q = Q_discrete_white_noise(3, var=1.)\n",
        "print(Q)"
      ]
    },
    {
      "cell_type": "markdown",
      "metadata": {
        "id": "7eIlpvcgvMUI"
      },
      "source": [
        "### Simplification of Q\n",
        "\n",
        "Many treatments use a much simpler form for $\\mathbf Q$, setting it to zero except for a noise term in the lower rightmost element. Is this justified? Well, consider the value of $\\mathbf Q$ for a small $\\Delta t$"
      ]
    },
    {
      "cell_type": "code",
      "execution_count": 80,
      "metadata": {
        "id": "_b8TFl4xvMUI",
        "outputId": "e71dc1ce-d2bb-4cb6-e16f-b9b2d7a510f3",
        "colab": {
          "base_uri": "https://localhost:8080/"
        }
      },
      "outputs": [
        {
          "output_type": "stream",
          "name": "stdout",
          "text": [
            "[[0.00000002 0.00000078 0.00002083]\n",
            " [0.00000078 0.00004167 0.00125   ]\n",
            " [0.00002083 0.00125    0.05      ]]\n"
          ]
        }
      ],
      "source": [
        "import numpy as np\n",
        "\n",
        "np.set_printoptions(precision=8)\n",
        "Q = Q_continuous_white_noise(\n",
        "    dim=3, dt=0.05, spectral_density=1)\n",
        "print(Q)\n",
        "np.set_printoptions(precision=3)"
      ]
    },
    {
      "cell_type": "markdown",
      "metadata": {
        "id": "raq17YTxvMUI"
      },
      "source": [
        "We can see that most of the terms are very small. Recall that the only equation using this matrix is\n",
        "\n",
        "$$ \\mathbf P=\\mathbf{FPF}^\\mathsf{T} + \\mathbf Q$$\n",
        "\n",
        "If the values for $\\mathbf Q$ are small relative to $\\mathbf P$\n",
        "then it will be contributing almost nothing to the computation of $\\mathbf P$. Setting $\\mathbf Q$ to the zero matrix except for the lower right term\n",
        "\n",
        "$$\\mathbf Q=\\begin{bmatrix}0&0&0\\\\0&0&0\\\\0&0&\\sigma^2\\end{bmatrix}$$\n",
        "\n",
        "while not correct, is often a useful approximation. If you do this for an important application you will have to perform quite a few studies to guarantee that your filter works in a variety of situations. \n",
        "\n",
        "If you do this, 'lower right term' means the most rapidly changing term for each variable. If the state is $x=\\begin{bmatrix}x & \\dot x & \\ddot{x} & y & \\dot{y} & \\ddot{y}\\end{bmatrix}^\\mathsf{T}$ Then $\\mathbf Q$ will be 6x6; the elements for both $\\ddot{x}$ and $\\ddot{y}$ will have to be set to non-zero in $\\mathbf Q$."
      ]
    },
    {
      "cell_type": "markdown",
      "metadata": {
        "id": "mImwgpd5vMUI"
      },
      "source": [
        "## Stable Compution of the Posterior Covariance\n",
        "\n",
        "I've presented the equation to compute the posterior covariance as\n",
        "\n",
        "$$\\mathbf P = (\\mathbf I - \\mathbf{KH})\\mathbf{\\bar P}$$\n",
        "\n",
        "and while strictly speaking this is correct, this is not how I compute it in `FilterPy`, where I use the *Joseph* equation\n",
        "\n",
        "\n",
        "$$\\mathbf P = (\\mathbf I-\\mathbf {KH})\\mathbf{\\bar P}(\\mathbf I-\\mathbf{KH})^\\mathsf T + \\mathbf{KRK}^\\mathsf T$$\n",
        "\n",
        "\n",
        "I frequently get emails and/or GitHub issues raised, claiming the implementation is a bug. It is not a bug, and I use it for several reasons. First, the subtraction $(\\mathbf I - \\mathbf{KH})$ can lead to nonsymmetric matrix results due to floating point errors. Covariances must be symmetric, and so becoming nonsymmetric usually leads to the Kalman filter diverging, or even for the code to raise an exception because of the checks built into `NumPy`.\n",
        "\n",
        "A traditional way to preserve symmetry is the following formula:\n",
        "\n",
        "$$\\mathbf P = (\\mathbf P + \\mathbf P^\\mathsf T) / 2$$\n",
        "\n",
        "This is safe because $\\sigma_{ij} = \\sigma_{ji}$ for all covariances in the matrix. Hence this operation averages the error between the differences of the two values if they have diverged due to floating point errors. \n",
        "\n",
        "If you look at the Joseph form for the equation above, you'll see there is a similar $\\mathbf{ABA}^\\mathsf T$ pattern in both terms. So they both preserve symmetry. But where did this equation come from, and why do I use it instead of\n",
        "\n",
        "\n",
        "$$\\mathbf P = (\\mathbf I - \\mathbf{KH})\\mathbf{\\bar P} \\\\\n",
        "\\mathbf P = (\\mathbf P + \\mathbf P^\\mathsf T) / 2$$\n",
        "\n",
        "\n",
        "Let's just derive the equation from first principles. It's not too bad, and you need to understand the derivation to understand the purpose of the equation, and, more importantly, diagnose issues if your filter diverges due to numerical instability. This derivation comes from Brown[4].\n",
        "\n",
        "First, some symbology. $\\mathbf x$ is the true state of our system. $\\mathbf{\\hat x}$ is the estimated state of our system - the posterior. And $\\mathbf{\\bar x}$ is the estimated prior of the system. \n",
        "\n",
        "\n",
        "Given that, we can define our model to be\n",
        "\n",
        "$$\\mathbf x_{k+1} = \\mathbf F_k \\mathbf x_k + \\mathbf w_k \\\\\n",
        "\\mathbf z_k = \\mathbf H_k \\mathbf x_k + \\mathbf v_k$$\n",
        "\n",
        "In words, the next state $\\mathbf x_{k+1}$ of the system is the current state $k$ moved by some process $\\mathbf F_k$ plus some noise $\\mathbf w_k$. \n",
        "\n",
        "Note that these are definitions. No system perfectly follows a mathematical model, so we model that with the noise term $\\mathbf w_k$. And no measurement is perfect due to sensor error, so we model that with $\\mathbf v_k$\n",
        "\n",
        "I'll dispense with the subscript $k$ since in the remainder of the derivation we will only consider values at step $k$, never step $k+1$.\n",
        "\n",
        "Now we define the estimation error as the difference between the true state and the estimated state\n",
        "\n",
        "$$ \\mathbf e = \\mathbf x - \\mathbf{\\hat x}$$\n",
        "\n",
        "Again, this is a definition; we don't know how to compute $\\mathbf e$, it is just the defined difference between the true and estimated state.\n",
        "\n",
        "This allows us to define the covariance of our estimate, which is defined as the expected value of $\\mathbf{ee}^\\mathsf T$:\n",
        "\n",
        "$$\\begin{aligned}\n",
        "P &= E[\\mathbf{ee}^\\mathsf T] \\\\\n",
        "&= E[(\\mathbf x - \\mathbf{\\hat x})(\\mathbf x - \\mathbf{\\hat x})^\\mathsf T]\n",
        "\\end{aligned}$$\n",
        "\n",
        "\n",
        "Next, we define the posterior estimate as\n",
        "\n",
        "$$\\mathbf {\\hat x} = \\mathbf{\\bar x} + \\mathbf K(\\mathbf z - \\mathbf{H \\bar x})$$\n",
        "\n",
        "That looks like the equation from the Kalman filter, and for good reason. But as with the rest of the math so far, this is a **definition**. In particular, we have not defined $\\mathbf K$, and you shouldn't think of it as the Kalman gain, because we are solving this for *any* problem, not just for linear Kalman filters. Here, $\\mathbf K$ is just some unspecified blending value between 0 and 1."
      ]
    },
    {
      "cell_type": "markdown",
      "metadata": {
        "id": "2HU_t_movMUJ"
      },
      "source": [
        "Now we have our definitions, let's perform some substitution and algebra.\n",
        "\n",
        "The term $(\\mathbf x - \\mathbf{\\hat x})$ can be expanded by replacing $\\mathbf{\\hat x}$ with the definition above, yielding\n",
        "\n",
        "$$(\\mathbf x - \\mathbf{\\hat x}) = \\mathbf x - (\\mathbf{\\bar x} + \\mathbf K(\\mathbf z - \\mathbf{H \\bar x}))$$\n",
        "\n",
        "Now we replace $\\mathbf z$ with $\\mathbf H \\mathbf x + \\mathbf v$:\n",
        "\n",
        "$$\\begin{aligned}\n",
        "(\\mathbf x - \\mathbf{\\hat x})\n",
        "&= \\mathbf x - (\\mathbf{\\bar x} + \\mathbf K(\\mathbf z - \\mathbf{H \\bar x})) \\\\\n",
        "&= \\mathbf x - (\\mathbf{\\bar x} + \\mathbf K(\\mathbf H \\mathbf x + \\mathbf v - \\mathbf{H \\bar x})) \\\\\n",
        "&= (\\mathbf x - \\mathbf{\\bar x}) - \\mathbf K(\\mathbf H \\mathbf x + \\mathbf v - \\mathbf{H \\bar x}) \\\\\n",
        "&= (\\mathbf x - \\mathbf{\\bar x}) - \\mathbf{KH}(\\mathbf x - \\mathbf{ \\bar x}) - \\mathbf{Kv} \\\\\n",
        "&=  (\\mathbf I - \\mathbf{KH})(\\mathbf x - \\mathbf{\\bar x}) - \\mathbf{Kv}\n",
        "\\end{aligned}$$\n",
        "\n",
        "Now we can solve for $\\mathbf P$ if we note that the expected value of $(\\mathbf x - \\mathbf{\\bar x})$ is the prior covariance $\\mathbf{\\bar P}$, and that the expected value of $\\mathbf v$ is $E[\\mathbf{vv}^\\mathbf T] = \\mathbf R$:\n",
        "\n",
        "$$\\begin{aligned}\n",
        "\\mathbf P &= \n",
        "   E\\big[[(\\mathbf I - \\mathbf{KH})(\\mathbf x - \\mathbf{\\bar x}) - \\mathbf{Kv})]\n",
        "  [(\\mathbf I - \\mathbf{KH})(\\mathbf x - \\mathbf{\\bar x}) - \\mathbf{Kv}]^\\mathsf T\\big ] \\\\\n",
        "  &= (\\mathbf I - \\mathbf{KH})\\mathbf{\\bar P}(\\mathbf I - \\mathbf{KH})^\\mathsf T + \\mathbf{KRK}^\\mathsf T\n",
        "\\end{aligned}$$\n",
        "\n",
        "which is what we came here to prove.\n",
        "\n",
        "Note that this equation is valid for *any* $\\mathbf K$, not just the optimal $\\mathbf K$ computed by the Kalman filter. And that is why I use this equation. In practice the Kalman gain computed by the filter is *not* the optimal value both because the real world is never truly linear and Gaussian, and because of floating point errors induced by computation. This equation is far less likely to cause the Kalman filter to diverge in the face of real world conditions.\n",
        "\n",
        "Where did $\\mathbf P = (\\mathbf I - \\mathbf{KH})\\mathbf{\\bar P}$ come from, then? Let's finish the derivation, which is simple. Recall that the Kalman filter (optimal) gain is given by\n",
        "\n",
        "$$\\mathbf K = \\mathbf{\\bar P H^\\mathsf T}(\\mathbf{H \\bar P H}^\\mathsf T + \\mathbf R)^{-1}$$\n",
        "\n",
        "Now we substitute this into the equation we just derived:\n",
        "\n",
        "$$\\begin{aligned}\n",
        "&= (\\mathbf I - \\mathbf{KH})\\mathbf{\\bar P}(\\mathbf I - \\mathbf{KH})^\\mathsf T + \\mathbf{KRK}^\\mathsf T\\\\\n",
        "&= \\mathbf{\\bar P} - \\mathbf{KH}\\mathbf{\\bar P} - \\mathbf{\\bar PH}^\\mathsf T\\mathbf{K}^\\mathsf T + \\mathbf K(\\mathbf{H \\bar P H}^\\mathsf T + \\mathbf R)\\mathbf K^\\mathsf T \\\\\n",
        "&= \\mathbf{\\bar P} - \\mathbf{KH}\\mathbf{\\bar P} - \\mathbf{\\bar PH}^\\mathsf T\\mathbf{K}^\\mathsf T + \\mathbf{\\bar P H^\\mathsf T}(\\mathbf{H \\bar P H}^\\mathsf T + \\mathbf R)^{-1}(\\mathbf{H \\bar P H}^\\mathsf T + \\mathbf R)\\mathbf K^\\mathsf T\\\\\n",
        "&= \\mathbf{\\bar P} - \\mathbf{KH}\\mathbf{\\bar P} - \\mathbf{\\bar PH}^\\mathsf T\\mathbf{K}^\\mathsf T + \\mathbf{\\bar P H^\\mathsf T}\\mathbf K^\\mathsf T\\\\\n",
        "&= \\mathbf{\\bar P} - \\mathbf{KH}\\mathbf{\\bar P}\\\\\n",
        "&= (\\mathbf I - \\mathbf{KH})\\mathbf{\\bar P}\n",
        "\\end{aligned}$$\n",
        "\n",
        "Therefore $\\mathbf P = (\\mathbf I - \\mathbf{KH})\\mathbf{\\bar P}$ is mathematically correct when the gain is optimal, but so is $(\\mathbf I - \\mathbf{KH})\\mathbf{\\bar P}(\\mathbf I - \\mathbf{KH})^\\mathsf T + \\mathbf{KRK}^\\mathsf T$. As we already discussed the latter is also correct when the gain is suboptimal, and it is also more numerically stable. Therefore I use this computation in FilterPy.\n",
        "\n",
        "It is quite possible that your filter still diverges, especially if it runs for hundreds or thousands of epochs. You will need to examine these equations. The literature provides yet other forms of this computation which may be more applicable to your problem. As always, if you are solving real engineering problems where failure could mean loss of equipment or life, you will need to move past this book and into the engineering literature. If you are working with 'toy' problems where failure is not damaging, if you detect divergence you can just reset the value of $\\mathbf P$ to some 'reasonable' value and keep on going. For example, you could zero out the non diagonal elements so the matrix only contains variances, and then maybe multiply by a constant somewhat larger than one to reflect the loss of information you just injected into the filter. Use your imagination, and test."
      ]
    },
    {
      "cell_type": "markdown",
      "metadata": {
        "id": "OaeYf2jyvMUJ"
      },
      "source": [
        "## Deriving the Kalman Gain Equation\n",
        "\n",
        "If you read the last section, you might as well read this one. With this we will have derived the Kalman filter equations.\n",
        "\n",
        "Note that this derivation is *not* using Bayes equations. I've seen at least four different ways to derive the Kalman filter equations; this derivation is typical to the literature, and follows from the last section. The source is again Brown [4].\n",
        "\n",
        "In the last section we used an unspecified scaling factor $\\mathbf K$ to derive the Joseph form of the covariance equation. If we want an optimal filter, we need to use calculus to minimize the errors in the equations. You should be familiar with this idea. If you want to find the minimum value of a function $f(x)$, you take the derivative and set it equal to zero: $\\frac{x}{dx}f(x) = 0$.\n",
        "\n",
        "In our problem the error is expressed by the covariance matrix $\\mathbf P$. In particular, the diagonal expresses the error (variance) of each element in the state vector. So, to find the optimal gain we want to take the derivative of the trace (sum) of the diagonal.\n",
        "\n",
        "Brown reminds us of two formulas involving the derivative of traces:\n",
        "\n",
        "$$\\frac{d\\, trace(\\mathbf{AB})}{d\\mathbf A} = \\mathbf B^\\mathsf T$$\n",
        "\n",
        "$$\\frac{d\\, trace(\\mathbf{ACA}^\\mathsf T)}{d\\mathbf A} = 2\\mathbf{AC}$$\n",
        "\n",
        "where $\\mathbf{AB}$ is square and $\\mathbf C$ is symmetric.\n",
        "\n",
        "\n",
        "We expand out the Joseph equation to:\n",
        "\n",
        "$$\\mathbf P = \\mathbf{\\bar P} - \\mathbf{KH}\\mathbf{\\bar P} - \\mathbf{\\bar P}\\mathbf H^\\mathsf T \\mathbf K^\\mathsf T + \\mathbf K(\\mathbf H \\mathbf{\\bar P}\\mathbf H^\\mathsf T + \\mathbf R)\\mathbf K^\\mathsf T$$\n",
        "\n",
        "Now we need to the the derivative of the trace of $\\mathbf P$ with respect to $\\mathbf K$: $\\frac{d\\, trace(\\mathbf P)}{d\\mathbf K}$.\n",
        "\n",
        "The derivative of the trace the first term with respect to $\\mathbf K$ is $0$, since it does not have $\\mathbf K$ in the expression.\n",
        "\n",
        "The derivative of the trace of the second term is $(\\mathbf H\\mathbf{\\bar P})^\\mathsf T$.\n",
        "\n",
        "We can find the derivative of the trace of the third term by noticing that $\\mathbf{\\bar P}\\mathbf H^\\mathsf T \\mathbf K^\\mathsf T$ is the transpose of $\\mathbf{KH}\\mathbf{\\bar P}$. The trace of a matrix is equal to the trace of it's transpose, so it's derivative will be same as the second term.\n",
        "\n",
        "Finally, the derivative of the trace of the fourth term is $2\\mathbf K(\\mathbf H \\mathbf{\\bar P}\\mathbf H^\\mathsf T + \\mathbf R)$.\n",
        "\n",
        "This gives us the final value of \n",
        "\n",
        "$$\\frac{d\\, trace(\\mathbf P)}{d\\mathbf K} = -2(\\mathbf H\\mathbf{\\bar P})^\\mathsf T + 2\\mathbf K(\\mathbf H \\mathbf{\\bar P}\\mathbf H^\\mathsf T + \\mathbf R)$$\n",
        "\n",
        "We set this to zero and solve to find the equation for $\\mathbf K$ which minimizes the error:\n",
        "\n",
        "$$-2(\\mathbf H\\mathbf{\\bar P})^\\mathsf T + 2\\mathbf K(\\mathbf H \\mathbf{\\bar P}\\mathbf H^\\mathsf T + \\mathbf R) = 0 \\\\\n",
        "\\mathbf K(\\mathbf H \\mathbf{\\bar P}\\mathbf H^\\mathsf T + \\mathbf R) = (\\mathbf H\\mathbf{\\bar P})^\\mathsf T \\\\\n",
        "\\mathbf K(\\mathbf H \\mathbf{\\bar P}\\mathbf H^\\mathsf T + \\mathbf R) = \\mathbf{\\bar P}\\mathbf H^\\mathsf T \\\\\n",
        "\\mathbf K= \\mathbf{\\bar P}\\mathbf H^\\mathsf T (\\mathbf H \\mathbf{\\bar P}\\mathbf H^\\mathsf T + \\mathbf R)^{-1}\n",
        "$$\n",
        "\n",
        "This derivation is not quite iron clad as I left out an argument about why minimizing the trace minimizes the total error, but I think it suffices for this book. Any of the standard texts will go into greater detail if you need it."
      ]
    },
    {
      "cell_type": "markdown",
      "metadata": {
        "id": "J7XGxyd_vMUJ"
      },
      "source": [
        "## Numeric Integration of Differential Equations"
      ]
    },
    {
      "cell_type": "markdown",
      "metadata": {
        "id": "XHdo3SU8vMUJ"
      },
      "source": [
        "We've been exposed to several numerical techniques to solve linear differential equations. These include state-space methods, the Laplace transform, and van Loan's method. \n",
        "\n",
        "These work well for linear ordinary differential equations (ODEs), but do not work well for nonlinear equations. For example, consider trying to predict the position of a rapidly turning car. Cars maneuver by turning the front wheels. This makes them pivot around their rear axle as it moves forward. Therefore the path will be continuously varying and a linear prediction will necessarily produce an incorrect value. If the change in the system is small enough relative to $\\Delta t$ this can often produce adequate results, but that will rarely be the case with the nonlinear Kalman filters we will be studying in subsequent chapters. \n",
        "\n",
        "For these reasons we need to know how to numerically integrate ODEs. This can be a vast topic that requires several books. However, I will cover a few simple techniques which will work for a majority of the problems you encounter.\n"
      ]
    },
    {
      "cell_type": "markdown",
      "metadata": {
        "id": "-Z-OSgn9vMUJ"
      },
      "source": [
        "### Euler's Method\n",
        "\n",
        "Let's say we have the initial condition problem of \n",
        "\n",
        "$$\\begin{gathered}\n",
        "y' = y, \\\\ y(0) = 1\n",
        "\\end{gathered}$$\n",
        "\n",
        "We happen to know the exact answer is $y=e^t$ because we solved it earlier, but for an arbitrary ODE we will not know the exact solution. In general all we know is the derivative of the equation, which is equal to the slope. We also know the initial value: at $t=0$, $y=1$. If we know these two pieces of information we can predict the value at $y(t=1)$ using the slope at $t=0$ and the value of $y(0)$. I've plotted this below."
      ]
    },
    {
      "cell_type": "code",
      "execution_count": 81,
      "metadata": {
        "scrolled": true,
        "id": "Z4dmzSI5vMUJ",
        "outputId": "a2480c54-13a9-49a8-b981-fdb6931bc44c",
        "colab": {
          "base_uri": "https://localhost:8080/",
          "height": 430
        }
      },
      "outputs": [
        {
          "output_type": "display_data",
          "data": {
            "text/plain": [
              "<Figure size 640x480 with 1 Axes>"
            ],
            "image/png": "[encoded data removed]"
          },
          "metadata": {}
        }
      ],
      "source": [
        "import matplotlib.pyplot as plt\n",
        "\n",
        "t = np.linspace(-1, 1, 10)\n",
        "plt.plot(t, np.exp(t))\n",
        "t = np.linspace(-1, 1, 2)\n",
        "plt.plot(t,t+1, ls='--', c='k');"
      ]
    },
    {
      "cell_type": "markdown",
      "metadata": {
        "id": "UfJIb4p8vMUK"
      },
      "source": [
        "You can see that the slope is very close to the curve at $t=0.1$, but far from it\n",
        "at $t=1$. But let's continue with a step size of 1 for a moment. We can see that at $t=1$ the estimated value of $y$ is 2. Now we can compute the value at $t=2$ by taking the slope of the curve at $t=1$ and adding it to our initial estimate. The slope is computed with $y'=y$, so the slope is 2."
      ]
    },
    {
      "cell_type": "code",
      "source": [
        "def set_labels(title=None, x=None, y=None):\n",
        "    \"\"\" helps make code in book shorter. Optional set title, xlabel and ylabel\n",
        "    \"\"\"\n",
        "    if x is not None:\n",
        "        plt.xlabel(x)\n",
        "    if y is not None:\n",
        "        plt.ylabel(y)\n",
        "    if title is not None:\n",
        "        plt.title(title)"
      ],
      "metadata": {
        "id": "rOCc9cCy-_Uq"
      },
      "execution_count": 82,
      "outputs": []
    },
    {
      "cell_type": "code",
      "execution_count": 83,
      "metadata": {
        "id": "RTElOirwvMUK",
        "outputId": "a88fffd6-30e7-44d0-9976-f4df36909173",
        "colab": {
          "base_uri": "https://localhost:8080/",
          "height": 449
        }
      },
      "outputs": [
        {
          "output_type": "display_data",
          "data": {
            "text/plain": [
              "<Figure size 640x480 with 1 Axes>"
            ],
            "image/png": "[encoded data removed]"
          },
          "metadata": {}
        }
      ],
      "source": [
        "#import kf_book.book_plots as book_plots\n",
        "\n",
        "t = np.linspace(-1, 2, 20)\n",
        "plt.plot(t, np.exp(t))\n",
        "t = np.linspace(0, 1, 2)\n",
        "plt.plot([1, 2, 4], ls='--', c='k')\n",
        "#book_plots.set_labels(x='x', y='y');\n",
        "set_labels(x='x', y='y');"
      ]
    },
    {
      "cell_type": "markdown",
      "metadata": {
        "id": "LplfVnhbvMUK"
      },
      "source": [
        "Here we see the next estimate for y is 4. The errors are getting large quickly, and you might be unimpressed. But 1 is a very large step size. Let's put this algorithm in code, and verify that it works by using a small step size."
      ]
    },
    {
      "cell_type": "code",
      "execution_count": 84,
      "metadata": {
        "id": "AY6HBD-HvMUK"
      },
      "outputs": [],
      "source": [
        "def euler(t, tmax, y, dx, step=1.):\n",
        "    ys = []\n",
        "    while t < tmax:\n",
        "        y = y + step*dx(t, y)\n",
        "        ys.append(y)\n",
        "        t +=step        \n",
        "    return ys"
      ]
    },
    {
      "cell_type": "code",
      "execution_count": 85,
      "metadata": {
        "id": "2hi63yo3vMUK",
        "outputId": "623d9947-3ad8-4b88-9b65-d640d883f6e1",
        "colab": {
          "base_uri": "https://localhost:8080/"
        }
      },
      "outputs": [
        {
          "output_type": "stream",
          "name": "stdout",
          "text": [
            "2.0\n",
            "4.0\n"
          ]
        }
      ],
      "source": [
        "def dx(t, y): return y\n",
        "\n",
        "print(euler(0, 1, 1, dx, step=1.)[-1])\n",
        "print(euler(0, 2, 1, dx, step=1.)[-1])"
      ]
    },
    {
      "cell_type": "markdown",
      "metadata": {
        "id": "vZaVIhR3vMUK"
      },
      "source": [
        "This looks correct. So now let's plot the result of a much smaller step size."
      ]
    },
    {
      "cell_type": "code",
      "execution_count": 86,
      "metadata": {
        "id": "wZT_nHn2vMUL",
        "outputId": "13d43d56-fe4b-4862-eee6-c463beee5386",
        "colab": {
          "base_uri": "https://localhost:8080/",
          "height": 452
        }
      },
      "outputs": [
        {
          "output_type": "display_data",
          "data": {
            "text/plain": [
              "<Figure size 640x480 with 2 Axes>"
            ],
            "image/png": "[encoded data removed]"
          },
          "metadata": {}
        }
      ],
      "source": [
        "ys = euler(0, 4, 1, dx, step=0.00001)\n",
        "plt.subplot(1,2,1)\n",
        "plt.title('Computed')\n",
        "plt.plot(np.linspace(0, 4, len(ys)),ys)\n",
        "plt.subplot(1,2,2)\n",
        "t = np.linspace(0, 4, 20)\n",
        "plt.title('Exact')\n",
        "plt.plot(t, np.exp(t));"
      ]
    },
    {
      "cell_type": "code",
      "execution_count": 87,
      "metadata": {
        "id": "JWfhSepkvMUL",
        "outputId": "ae2491c9-887e-4263-e12a-741d73026666",
        "colab": {
          "base_uri": "https://localhost:8080/"
        }
      },
      "outputs": [
        {
          "output_type": "stream",
          "name": "stdout",
          "text": [
            "exact answer= 54.598150033144236\n",
            "euler answer= 54.59705808834125\n",
            "difference = 0.0010919448029866885\n",
            "iterations = 400000\n"
          ]
        }
      ],
      "source": [
        "print('exact answer=', np.exp(4))\n",
        "print('euler answer=', ys[-1])\n",
        "print('difference =', np.exp(4) - ys[-1])\n",
        "print('iterations =', len(ys))"
      ]
    },
    {
      "cell_type": "markdown",
      "metadata": {
        "id": "SghvrCNFvMUL"
      },
      "source": [
        "Here we see that the error is reasonably small, but it took a very large number of iterations to get three digits of precision. In practice Euler's method is too slow for most problems, and we use more sophisticated methods.\n",
        "\n",
        "Before we go on, let's formally derive Euler's method, as it is the basis for the more advanced Runge Kutta methods used in the next section. In fact, Euler's method is the simplest form of Runge Kutta.\n",
        "\n",
        "\n",
        "Here are the first 3 terms of the Taylor expansion of $y$. An infinite expansion would give an exact answer, so $O(h^4)$ denotes the error due to the finite expansion.\n",
        "\n",
        "$$y(t_0 + h) = y(t_0) + h y'(t_0) + \\frac{1}{2!}h^2 y''(t_0) + \\frac{1}{3!}h^3 y'''(t_0) +  O(h^4)$$\n",
        "\n",
        "Here we can see that Euler's method is using the first two terms of the Taylor expansion. Each subsequent term is smaller than the previous terms, so we are assured that the estimate will not be too far off from the correct value. "
      ]
    },
    {
      "cell_type": "markdown",
      "metadata": {
        "id": "j4UwOBksvMUL"
      },
      "source": [
        "### Runge Kutta Methods"
      ]
    },
    {
      "cell_type": "markdown",
      "metadata": {
        "id": "m1f_-484vMUL"
      },
      "source": [
        "\n",
        "Runge Kutta is the workhorse of numerical integration. There are a vast number of methods in the literature. In practice, using the Runge Kutta algorithm that I present here will solve most any problem you will face. It offers a very good balance of speed, precision, and stability, and it is the 'go to' numerical integration method unless you have a very good reason to choose something different.\n",
        "\n",
        "Let's dive in. We start with some differential equation\n",
        "\n",
        "$$\\ddot{y} = \\frac{d}{dt}\\dot{y}$$.\n",
        "\n",
        "We can substitute the derivative of y with a function f, like so\n",
        "\n",
        "$$\\ddot{y} = \\frac{d}{dt}f(y,t)$$."
      ]
    },
    {
      "cell_type": "markdown",
      "metadata": {
        "id": "UX_yqh6tvMUL"
      },
      "source": [
        "Deriving these equations is outside the scope of this book, but the Runge Kutta RK4 method is defined with these equations.\n",
        "\n",
        "$$y(t+\\Delta t) = y(t) + \\frac{1}{6}(k_1 + 2k_2 + 2k_3 + k_4) + O(\\Delta t^4)$$\n",
        "\n",
        "$$\\begin{aligned}\n",
        "k_1 &= f(y,t)\\Delta t \\\\\n",
        "k_2 &= f(y+\\frac{1}{2}k_1, t+\\frac{1}{2}\\Delta t)\\Delta t \\\\\n",
        "k_3 &= f(y+\\frac{1}{2}k_2, t+\\frac{1}{2}\\Delta t)\\Delta t \\\\\n",
        "k_4 &= f(y+k_3, t+\\Delta t)\\Delta t\n",
        "\\end{aligned}\n",
        "$$\n",
        "\n",
        "Here is the corresponding code:"
      ]
    },
    {
      "cell_type": "code",
      "execution_count": 88,
      "metadata": {
        "id": "icG-9TMhvMUM"
      },
      "outputs": [],
      "source": [
        "def runge_kutta4(y, x, dx, f):\n",
        "    \"\"\"computes 4th order Runge-Kutta for dy/dx.\n",
        "    y is the initial value for y\n",
        "    x is the initial value for x\n",
        "    dx is the difference in x (e.g. the time step)\n",
        "    f is a callable function (y, x) that you supply \n",
        "    to compute dy/dx for the specified values.\n",
        "    \"\"\"\n",
        "    \n",
        "    k1 = dx * f(y, x)\n",
        "    k2 = dx * f(y + 0.5*k1, x + 0.5*dx)\n",
        "    k3 = dx * f(y + 0.5*k2, x + 0.5*dx)\n",
        "    k4 = dx * f(y + k3, x + dx)\n",
        "    \n",
        "    return y + (k1 + 2*k2 + 2*k3 + k4) / 6."
      ]
    },
    {
      "cell_type": "markdown",
      "metadata": {
        "id": "mIwfMEXFvMUM"
      },
      "source": [
        "Let's use this for a simple example. Let\n",
        "\n",
        "$$\\dot{y} = t\\sqrt{y(t)}$$\n",
        "\n",
        "with the initial values\n",
        "\n",
        "$$\\begin{aligned}t_0 &= 0\\\\y_0 &= y(t_0) = 1\\end{aligned}$$"
      ]
    },
    {
      "cell_type": "code",
      "execution_count": 89,
      "metadata": {
        "id": "ujjYGJIEvMUM",
        "outputId": "ed63c2f1-7ce7-48fb-c8a2-3f4877dea56a",
        "colab": {
          "base_uri": "https://localhost:8080/",
          "height": 447
        }
      },
      "outputs": [
        {
          "output_type": "stream",
          "name": "stdout",
          "text": [
            "max error 0.00005\n"
          ]
        },
        {
          "output_type": "display_data",
          "data": {
            "text/plain": [
              "<Figure size 640x480 with 1 Axes>"
            ],
            "image/png": "[encoded data removed]"
          },
          "metadata": {}
        }
      ],
      "source": [
        "import math\n",
        "import numpy as np\n",
        "t = 0.\n",
        "y = 1.\n",
        "dt = .1\n",
        "\n",
        "ys, ts = [], []\n",
        "\n",
        "def func(y,t):\n",
        "    return t*math.sqrt(y)\n",
        "\n",
        "while t <= 10:\n",
        "    y = runge_kutta4(y, t, dt, func)\n",
        "    t += dt\n",
        "    ys.append(y)\n",
        "    ts.append(t)\n",
        "\n",
        "exact = [(t**2 + 4)**2 / 16. for t in ts]\n",
        "plt.plot(ts, ys)\n",
        "plt.plot(ts, exact)\n",
        "\n",
        "error = np.array(exact) - np.array(ys)\n",
        "print(f\"max error {max(error):.5f}\")"
      ]
    },
    {
      "cell_type": "markdown",
      "metadata": {
        "id": "cziBNNXvvMUM"
      },
      "source": [
        "## Bayesian Filtering\n",
        "\n",
        "Starting in the Discrete Bayes chapter I used a Bayesian formulation for filtering. Suppose we are tracking an object. We define its *state* at a specific time as its position, velocity, and so on. For example, we might write the state at time $t$ as $\\mathbf x_t = \\begin{bmatrix}x_t &\\dot x_t \\end{bmatrix}^\\mathsf T$. \n",
        "\n",
        "When we take a measurement of the object we are measuring the state or part of it. Sensors are noisy, so the measurement is corrupted with noise. Clearly though, the measurement is determined by the state. That is, a change in state may change the measurement, but a change in measurement will not change the state.\n",
        "\n",
        "In filtering our goal is to compute an optimal estimate for a set of states $\\mathbf x_{0:t}$ from time 0 to time $t$. If we knew $\\mathbf x_{0:t}$ then it would be trivial to compute a set of measurements $\\mathbf z_{0:t}$ corresponding to those states. However, we receive a set of measurements $\\mathbf z_{0:t}$, and want to compute the corresponding states $\\mathbf x_{0:t}$. This is called *statistical inversion* because we are trying to compute the input from the output. \n",
        "\n",
        "Inversion is a difficult problem because there is typically no unique solution. For a given set of states $\\mathbf x_{0:t}$ there is only one possible set of measurements (plus noise), but for a given set of measurements there are many different sets of states that could have led to those measurements. \n",
        "\n",
        "Recall Bayes Theorem:\n",
        "\n",
        "$$P(x \\mid z) = \\frac{P(z \\mid x)P(x)}{P(z)}$$\n",
        "\n",
        "where $P(z \\mid x)$ is the *likelihood* of the measurement $z$, $P(x)$ is the *prior* based on our process model, and $P(z)$ is a normalization constant. $P(x \\mid z)$ is the *posterior*, or the distribution after incorporating the measurement $z$, also called the *evidence*.\n",
        "\n",
        "This is a *statistical inversion* as it goes from $P(z \\mid x)$ to $P(x \\mid z)$. The solution to our filtering problem can be expressed as:\n",
        "\n",
        "$$P(\\mathbf x_{0:t} \\mid \\mathbf z_{0:t}) = \\frac{P(\\mathbf z_{0:t} \\mid \\mathbf x_{0:t})P(\\mathbf x_{0:t})}{P(\\mathbf z_{0:t})}$$\n",
        "\n",
        "That is all well and good until the next measurement $\\mathbf z_{t+1}$ comes in, at which point we need to recompute the entire expression for the range $0:t+1$. \n",
        "\n",
        "In practice this is intractable because we are trying to compute the posterior distribution $P(\\mathbf x_{0:t} \\mid \\mathbf z_{0:t})$ for the state over the full range of time steps. But do we really care about the probability distribution at the third step (say) when we just received the tenth measurement? Not usually. So we relax our requirements and only compute the distributions for the current time step. \n",
        "\n",
        "The first simplification is we describe our process (e.g., the motion model for a moving object) as a *Markov chain*. That is, we say that the current state is solely dependent on the previous state and a transition probability $P(\\mathbf x_k \\mid \\mathbf x_{k-1})$, which is just the probability of going from the last state to the current one. We write:\n",
        "\n",
        "$$\\mathbf x_k \\sim P(\\mathbf x_k \\mid \\mathbf x_{k-1})$$\n",
        "\n",
        "In practice this is extremely reasonable, as many things have the *Markov property*. If you are driving in a parking lot, does your position in the next second depend on whether you pulled off the interstate or were creeping along on a dirt road one minute ago? No. Your position in the next second depends solely on your current position, speed, and control inputs, not on what happened a minute ago. Thus, cars have the Markov property, and we can make this simplification with no loss of precision or generality.\n",
        "\n",
        "The next simplification we make is do define the *measurement model* as depending on the current state $\\mathbf x_k$ with the conditional probability of the measurement given the current state: $P(\\mathbf z_k \\mid \\mathbf x_k)$. We write:\n",
        "\n",
        "$$\\mathbf z_k \\sim P(\\mathbf z_k \\mid \\mathbf x_k)$$\n",
        "\n",
        "We have a recurrence now, so we need an initial condition to terminate it. Therefore we say that the initial distribution is the probablity of the state $\\mathbf x_0$:\n",
        "\n",
        "$$\\mathbf x_0 \\sim P(\\mathbf x_0)$$\n",
        "\n",
        "\n",
        "These terms are plugged into Bayes equation. If we have the state $\\mathbf x_0$ and the first measurement we can estimate $P(\\mathbf x_1 | \\mathbf z_1)$. The motion model creates the prior $P(\\mathbf x_2 \\mid \\mathbf x_1)$. We feed this back into Bayes theorem to compute $P(\\mathbf x_2 | \\mathbf z_2)$. We continue this predictor-corrector algorithm, recursively computing the state and distribution at time $t$ based solely on the state and distribution at time $t-1$ and the measurement at time $t$.\n",
        "\n",
        "The details of the mathematics for this computation varies based on the problem. The **Discrete Bayes** and **Univariate Kalman Filter** chapters gave two different formulations which you should have been able to reason through. The univariate Kalman filter assumes that for a scalar state both the noise and process are linear model are affected by zero-mean, uncorrelated Gaussian noise. \n",
        "\n",
        "The Multivariate Kalman filter makes the same assumption but for states and measurements that are vectors, not scalars. Dr. Kalman was able to prove that if these assumptions hold true then the Kalman filter is *optimal* in a least squares sense. Colloquially this means there is no way to derive more information from the noisy measurements. In the remainder of the book I will present filters that relax the constraints on linearity and Gaussian noise.\n",
        "\n",
        "Before I go on, a few more words about statistical inversion. As Calvetti and Somersalo write in *Introduction to Bayesian Scientific Computing*, \"we adopt the Bayesian point of view: *randomness simply means lack of information*\"[3]. Our state parameterizes physical phenomena that we could in principle measure or compute: velocity, air drag, and so on. We lack enough information to compute or measure their value, so we opt to consider them as random variables. Strictly speaking they are not random, thus this is a subjective position. \n",
        "\n",
        "They devote a full chapter to this topic. I can spare a paragraph. Bayesian filters are possible because we ascribe statistical properties to unknown parameters. In the case of the Kalman filter we have closed-form solutions to find an optimal estimate. Other filters, such as the discrete Bayes filter or the particle filter which we cover in a later chapter, model the probability in a more ad-hoc, non-optimal manner. The power of our technique comes from treating lack of information as a random variable, describing that random variable as a probability distribution, and then using Bayes Theorem to solve the statistical inference problem."
      ]
    },
    {
      "cell_type": "markdown",
      "metadata": {
        "id": "rm_8W1uyvMUM"
      },
      "source": [
        "## Converting Kalman Filter to a g-h Filter\n",
        "\n",
        "I've stated that the Kalman filter is a form of the g-h filter. It just takes some algebra to prove it. It's more straightforward to do with the one dimensional case, so I will do that. Recall \n",
        "\n",
        "$$\n",
        "\\mu_{x}=\\frac{\\sigma_1^2 \\mu_2 + \\sigma_2^2 \\mu_1} {\\sigma_1^2 + \\sigma_2^2}\n",
        "$$\n",
        "\n",
        "which I will make more friendly for our eyes as:\n",
        "\n",
        "$$\n",
        "\\mu_{x}=\\frac{ya + xb} {a+b}\n",
        "$$\n",
        "\n",
        "We can easily put this into the g-h form with the following algebra\n",
        "\n",
        "$$\n",
        "\\begin{aligned}\n",
        "\\mu_{x}&=(x-x) + \\frac{ya + xb} {a+b} \\\\\n",
        "\\mu_{x}&=x-\\frac{a+b}{a+b}x  + \\frac{ya + xb} {a+b} \\\\ \n",
        "\\mu_{x}&=x +\\frac{-x(a+b) + xb+ya}{a+b} \\\\\n",
        "\\mu_{x}&=x+ \\frac{-xa+ya}{a+b}  \\\\\n",
        "\\mu_{x}&=x+ \\frac{a}{a+b}(y-x)\\\\\n",
        "\\end{aligned}\n",
        "$$\n",
        "\n",
        "We are almost done, but recall that the variance of estimate is given by \n",
        "\n",
        "$$\\begin{aligned}\n",
        "\\sigma_{x}^2 &= \\frac{1}{\\frac{1}{\\sigma_1^2} +  \\frac{1}{\\sigma_2^2}} \\\\\n",
        "&= \\frac{1}{\\frac{1}{a} +  \\frac{1}{b}}\n",
        "\\end{aligned}$$\n",
        "\n",
        "We can incorporate that term into our equation above by observing that\n",
        "\n",
        "$$ \n",
        "\\begin{aligned}\n",
        "\\frac{a}{a+b} &= \\frac{a/a}{(a+b)/a} = \\frac{1}{(a+b)/a}  \\\\\n",
        " &= \\frac{1}{1 + \\frac{b}{a}} = \\frac{1}{\\frac{b}{b} + \\frac{b}{a}}  \\\\\n",
        " &= \\frac{1}{b}\\frac{1}{\\frac{1}{b} + \\frac{1}{a}} \\\\\n",
        " &= \\frac{\\sigma^2_{x}}{b}\n",
        " \\end{aligned}\n",
        "$$\n",
        "\n",
        "We can tie all of this together with\n",
        "\n",
        "$$\n",
        "\\begin{aligned}\n",
        "\\mu_{x}&=x+ \\frac{a}{a+b}(y-x) \\\\\n",
        "&= x + \\frac{\\sigma^2_{x}}{b}(y-x) \\\\\n",
        "&= x + g_n(y-x)\n",
        "\\end{aligned}\n",
        "$$\n",
        "\n",
        "where\n",
        "\n",
        "$$g_n = \\frac{\\sigma^2_{x}}{\\sigma^2_{y}}$$\n",
        "\n",
        "The end result is multiplying the residual of the two measurements by a constant and adding to our previous value, which is the $g$ equation for the g-h filter. $g$ is the variance of the new estimate divided by the variance of the measurement. Of course in this case $g$ is not a constant as it varies with each time step as the variance changes. We can also derive the formula for $h$ in the same way. It is not a particularly illuminating derivation and I will skip it. The end result is\n",
        "\n",
        "$$h_n = \\frac{COV (x,\\dot x)}{\\sigma^2_{y}}$$\n",
        "\n",
        "The takeaway point is that $g$ and $h$ are specified fully by the variance and covariances of the measurement and predictions at time $n$. In other words, we are picking a point between the measurement and prediction by a scale factor determined by the quality of each of those two inputs."
      ]
    },
    {
      "cell_type": "markdown",
      "metadata": {
        "id": "HFheBnWOvMUN"
      },
      "source": [
        "## References"
      ]
    },
    {
      "cell_type": "markdown",
      "metadata": {
        "id": "LK0u0W0mvMUN"
      },
      "source": [
        " * [1] C.B. Molwer and C.F. Van Loan \"Nineteen Dubious Ways to Compute the Exponential of a Matrix, Twenty-Five Years Later,\", *SIAM Review 45, 3-49*. 2003.\n",
        "\n",
        "\n",
        " * [2] C.F. van Loan, \"Computing Integrals Involving the Matrix Exponential,\" IEEE *Transactions Automatic Control*, June 1978.\n",
        " \n",
        " \n",
        " * [3] Calvetti, D and Somersalo E, \"Introduction to Bayesian Scientific Computing: Ten Lectures on Subjective Computing,\", *Springer*, 2007.\n",
        " \n",
        " * [4] Brown, R. G. and Hwang, P. Y.C., \"Introduction to Random Signals and Applied Kalman Filtering\", *Wiley and Sons*, Fourth Edition, p.143-147, 2012. \n",
        " "
      ]
    }
  ],
  "metadata": {
    "anaconda-cloud": {},
    "kernelspec": {
      "display_name": "Python 3 (ipykernel)",
      "language": "python",
      "name": "python3"
    },
    "language_info": {
      "codemirror_mode": {
        "name": "ipython",
        "version": 3
      },
      "file_extension": ".py",
      "mimetype": "text/x-python",
      "name": "python",
      "nbconvert_exporter": "python",
      "pygments_lexer": "ipython3",
      "version": "3.9.7"
    },
    "colab": {
      "name": "07-Kalman-Filter-Math.ipynb",
      "provenance": []
    }
  },
  "nbformat": 4,
  "nbformat_minor": 0
}