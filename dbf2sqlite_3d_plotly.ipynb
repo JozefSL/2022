{
  "nbformat": 4,
  "nbformat_minor": 0,
  "metadata": {
    "colab": {
      "name": "Untitled12.ipynb",
      "provenance": [],
      "collapsed_sections": [],
      "authorship_tag": "ABX9TyM3s+/lnKe8dFSwWb95UI/Y",
      "include_colab_link": true
    },
    "kernelspec": {
      "name": "python3",
      "display_name": "Python 3"
    },
    "language_info": {
      "name": "python"
    }
  },
  "cells": [
    {
      "cell_type": "markdown",
      "metadata": {
        "id": "view-in-github",
        "colab_type": "text"
      },
      "source": [
        "<a href=\"https://colab.research.google.com/github/JozefSL/2022/blob/main/dbf2sqlite_3d_plotly.ipynb\" target=\"_parent\"><img src=\"https://colab.research.google.com/assets/colab-badge.svg\" alt=\"Open In Colab\"/></a>"
      ]
    },
    {
      "cell_type": "code",
      "source": [
        "!pip install dbfread"
      ],
      "metadata": {
        "colab": {
          "base_uri": "https://localhost:8080/"
        },
        "id": "MF9IXXSDFng_",
        "outputId": "d4606804-9fd8-4ba6-846f-63f2f32cc5c7"
      },
      "execution_count": 1,
      "outputs": [
        {
          "output_type": "stream",
          "name": "stdout",
          "text": [
            "Looking in indexes: https://pypi.org/simple, https://us-python.pkg.dev/colab-wheels/public/simple/\n",
            "Collecting dbfread\n",
            "  Downloading dbfread-2.0.7-py2.py3-none-any.whl (20 kB)\n",
            "Installing collected packages: dbfread\n",
            "Successfully installed dbfread-2.0.7\n"
          ]
        }
      ]
    },
    {
      "cell_type": "code",
      "source": [
        "!pip install dataset"
      ],
      "metadata": {
        "colab": {
          "base_uri": "https://localhost:8080/"
        },
        "id": "Npz4CxyoojI0",
        "outputId": "252354a0-05b9-401e-991b-35bd27b92a77"
      },
      "execution_count": 9,
      "outputs": [
        {
          "output_type": "stream",
          "name": "stdout",
          "text": [
            "Looking in indexes: https://pypi.org/simple, https://us-python.pkg.dev/colab-wheels/public/simple/\n",
            "Collecting dataset\n",
            "  Downloading dataset-1.5.2-py2.py3-none-any.whl (18 kB)\n",
            "Collecting banal>=1.0.1\n",
            "  Downloading banal-1.0.6-py2.py3-none-any.whl (6.1 kB)\n",
            "Collecting alembic>=0.6.2\n",
            "  Downloading alembic-1.8.1-py3-none-any.whl (209 kB)\n",
            "\u001b[K     |████████████████████████████████| 209 kB 5.1 MB/s \n",
            "\u001b[?25hRequirement already satisfied: sqlalchemy>=1.3.2 in /usr/local/lib/python3.7/dist-packages (from dataset) (1.4.39)\n",
            "Requirement already satisfied: importlib-resources in /usr/local/lib/python3.7/dist-packages (from alembic>=0.6.2->dataset) (5.8.0)\n",
            "Collecting Mako\n",
            "  Downloading Mako-1.2.1-py3-none-any.whl (78 kB)\n",
            "\u001b[K     |████████████████████████████████| 78 kB 7.4 MB/s \n",
            "\u001b[?25hRequirement already satisfied: importlib-metadata in /usr/local/lib/python3.7/dist-packages (from alembic>=0.6.2->dataset) (4.12.0)\n",
            "Requirement already satisfied: greenlet!=0.4.17 in /usr/local/lib/python3.7/dist-packages (from sqlalchemy>=1.3.2->dataset) (1.1.2)\n",
            "Requirement already satisfied: zipp>=0.5 in /usr/local/lib/python3.7/dist-packages (from importlib-metadata->alembic>=0.6.2->dataset) (3.8.1)\n",
            "Requirement already satisfied: typing-extensions>=3.6.4 in /usr/local/lib/python3.7/dist-packages (from importlib-metadata->alembic>=0.6.2->dataset) (4.1.1)\n",
            "Requirement already satisfied: MarkupSafe>=0.9.2 in /usr/local/lib/python3.7/dist-packages (from Mako->alembic>=0.6.2->dataset) (2.0.1)\n",
            "Installing collected packages: Mako, banal, alembic, dataset\n",
            "Successfully installed Mako-1.2.1 alembic-1.8.1 banal-1.0.6 dataset-1.5.2\n"
          ]
        }
      ]
    },
    {
      "cell_type": "code",
      "source": [
        "#import pandas as pd\n",
        "import plotly.express as px\n",
        "from dbfread import DBF\n",
        "#import glob\n",
        "import sqlite3\n",
        "import sys\n",
        "import csv\n",
        "import dbfread\n",
        "import dataset"
      ],
      "metadata": {
        "id": "eve4p-eIFiWc"
      },
      "execution_count": 10,
      "outputs": []
    },
    {
      "cell_type": "code",
      "source": [
        "!wget https://gis.dmr.nd.gov/downloads/oilgas/shapefile/OGD_Horizontals.zip"
      ],
      "metadata": {
        "colab": {
          "base_uri": "https://localhost:8080/"
        },
        "id": "ofB_gthlD69b",
        "outputId": "5c2a158c-bcac-48e2-d0da-46163e073ea3"
      },
      "execution_count": 3,
      "outputs": [
        {
          "output_type": "stream",
          "name": "stdout",
          "text": [
            "--2022-07-22 11:03:53--  https://gis.dmr.nd.gov/downloads/oilgas/shapefile/OGD_Horizontals.zip\n",
            "Resolving gis.dmr.nd.gov (gis.dmr.nd.gov)... 165.234.156.197\n",
            "Connecting to gis.dmr.nd.gov (gis.dmr.nd.gov)|165.234.156.197|:443... connected.\n",
            "HTTP request sent, awaiting response... 200 OK\n",
            "Length: 293655700 (280M) [application/x-zip-compressed]\n",
            "Saving to: ‘OGD_Horizontals.zip’\n",
            "\n",
            "OGD_Horizontals.zip 100%[===================>] 280.05M  77.4MB/s    in 3.8s    \n",
            "\n",
            "2022-07-22 11:03:57 (73.3 MB/s) - ‘OGD_Horizontals.zip’ saved [293655700/293655700]\n",
            "\n"
          ]
        }
      ]
    },
    {
      "cell_type": "code",
      "source": [
        "!unzip OGD_Horizontals.zip"
      ],
      "metadata": {
        "colab": {
          "base_uri": "https://localhost:8080/"
        },
        "id": "dzIwycO5Eywt",
        "outputId": "4ccb6dcb-a5fd-4d59-c24c-2b8fe4f0ecfb"
      },
      "execution_count": 4,
      "outputs": [
        {
          "output_type": "stream",
          "name": "stdout",
          "text": [
            "Archive:  OGD_Horizontals.zip\n",
            " extracting: OGD_Horizontals.cpg     \n",
            "  inflating: OGD_Horizontals.dbf     \n",
            "  inflating: OGD_Horizontals.prj     \n",
            "  inflating: OGD_Horizontals.sbn     \n",
            "  inflating: OGD_Horizontals.sbx     \n",
            "  inflating: OGD_Horizontals.shp     \n",
            "  inflating: OGD_Horizontals.shp.xml  \n",
            "  inflating: OGD_Horizontals.shx     \n"
          ]
        }
      ]
    },
    {
      "cell_type": "code",
      "source": [
        "filename= 'OGD_Horizontals.dbf'\n",
        "\n"
      ],
      "metadata": {
        "id": "3pQ8OazsCZo7"
      },
      "execution_count": 5,
      "outputs": []
    },
    {
      "cell_type": "code",
      "source": [
        "# write to csv file about 2 minutes\n",
        "table = DBF(filename)\n",
        "f=open('ndWells.csv', 'w')\n",
        "writer = csv.writer(f)\n",
        "writer.writerow(table.field_names)\n",
        "for record in table:\n",
        "  writer.writerow(list(record.values()))"
      ],
      "metadata": {
        "id": "SZ0IGtUxnN4y"
      },
      "execution_count": 67,
      "outputs": []
    },
    {
      "cell_type": "code",
      "source": [
        "%ls"
      ],
      "metadata": {
        "colab": {
          "base_uri": "https://localhost:8080/"
        },
        "id": "01YVq_2WnN_h",
        "outputId": "033d4c01-2811-46b6-86dd-888b7be7ace2"
      },
      "execution_count": 68,
      "outputs": [
        {
          "output_type": "stream",
          "name": "stdout",
          "text": [
            "ndWells.csv          OGD_Horizontals.sbn      OGD_Horizontals.shx\n",
            "OGD_Horizontals.cpg  OGD_Horizontals.sbx      OGD_Horizontals.zip\n",
            "OGD_Horizontals.dbf  OGD_Horizontals.shp      \u001b[0m\u001b[01;34msample_data\u001b[0m/\n",
            "OGD_Horizontals.prj  OGD_Horizontals.shp.xml\n"
          ]
        }
      ]
    },
    {
      "cell_type": "code",
      "source": [
        "# slow, over one hour to process\n",
        "db = dataset.connect('sqlite:///:memory:')\n",
        "table = db['wells']\n",
        "for record in DBF(filename, lowernames=True):\n",
        "  table.insert(record)\n"
      ],
      "metadata": {
        "id": "ZsrxMljupXPu"
      },
      "execution_count": 12,
      "outputs": []
    },
    {
      "cell_type": "code",
      "source": [
        "print(db.tables)"
      ],
      "metadata": {
        "colab": {
          "base_uri": "https://localhost:8080/"
        },
        "id": "gu36ktTP6qdz",
        "outputId": "2c85b5e0-2957-4134-f175-7f220fb7c966"
      },
      "execution_count": 14,
      "outputs": [
        {
          "output_type": "stream",
          "name": "stdout",
          "text": [
            "['wells']\n"
          ]
        }
      ]
    },
    {
      "cell_type": "code",
      "source": [
        "print(db['wells'].columns)"
      ],
      "metadata": {
        "colab": {
          "base_uri": "https://localhost:8080/"
        },
        "id": "tJBehkJV6yQE",
        "outputId": "bf0df40e-874b-44ce-b88f-64584bc20e34"
      },
      "execution_count": 15,
      "outputs": [
        {
          "output_type": "stream",
          "name": "stdout",
          "text": [
            "['id', 'wl_permit', 'api_wellno', 'api_format', 'bh_long', 'bh_lat', 'well_sub', 'measdpth', 'bh_inc', 'bh_azmuth', 'tvd', 'bh_coordns', 'bh_coord_1', 'bh_coordew', 'bh_coord_2', 'apitype']\n"
          ]
        }
      ]
    },
    {
      "cell_type": "code",
      "source": [
        "print(table.find_one(api_wellno = '33007009620000'))"
      ],
      "metadata": {
        "colab": {
          "base_uri": "https://localhost:8080/"
        },
        "id": "fZKGTkmy6yyu",
        "outputId": "d1bce85d-c700-47ce-8815-2a38f632b09f"
      },
      "execution_count": 62,
      "outputs": [
        {
          "output_type": "stream",
          "name": "stdout",
          "text": [
            "OrderedDict([('id', 5251), ('wl_permit', '10475'), ('api_wellno', '33007009620000'), ('api_format', '33-007-00962-00-00'), ('bh_long', -103.59071073), ('bh_lat', 47.16533453), ('well_sub', 'LAT1'), ('measdpth', 9819.0), ('bh_inc', 10.19999981), ('bh_azmuth', 219.6000061), ('tvd', 9816.98535156), ('bh_coordns', 23.77682495), ('bh_coord_1', 'S'), ('bh_coordew', 2.49027348), ('bh_coord_2', 'E'), ('apitype', '33007009620000_LAT1')])\n"
          ]
        }
      ]
    },
    {
      "cell_type": "code",
      "source": [
        "plWell = table.find(api_wellno = '33023003280000')\n"
      ],
      "metadata": {
        "id": "5YrY-SJZpXTP"
      },
      "execution_count": 36,
      "outputs": []
    },
    {
      "cell_type": "code",
      "source": [
        "plWell = table.find(api_wellno = '33023003280000')\n",
        "fig = px.scatter_3d(plWell, x='bh_long', y='bh_lat', z='tvd', color='well_sub')\n",
        "fig.update_traces(marker_size = 3)\n",
        "fig.update_scenes(yaxis_autorange=\"reversed\")\n",
        "fig.update_scenes(xaxis_autorange=\"reversed\")\n",
        "fig.update_scenes(zaxis_range=[16000, 0])\n",
        "fig.update_layout({\n",
        "'plot_bgcolor': 'rgba(100, 0, 0, 0)',\n",
        "'paper_bgcolor': 'rgba(0, 0, 0, 0)',\n",
        "})\n",
        "fig.show()"
      ],
      "metadata": {
        "colab": {
          "base_uri": "https://localhost:8080/",
          "height": 542
        },
        "id": "zN8b3rEK6y3t",
        "outputId": "389b69c4-9589-4c7a-cbfc-87c5bc341c32"
      },
      "execution_count": 59,
      "outputs": [
        {
          "output_type": "display_data",
          "data": {
            "text/html": [
              "<html>\n",
              "<head><meta charset=\"utf-8\" /></head>\n",
              "<body>\n",
              "    <div>            <script src=\"https://cdnjs.cloudflare.com/ajax/libs/mathjax/2.7.5/MathJax.js?config=TeX-AMS-MML_SVG\"></script><script type=\"text/javascript\">if (window.MathJax) {MathJax.Hub.Config({SVG: {font: \"STIX-Web\"}});}</script>                <script type=\"text/javascript\">window.PlotlyConfig = {MathJaxConfig: 'local'};</script>\n",
              "        <script src=\"https://cdn.plot.ly/plotly-2.8.3.min.js\"></script>                <div id=\"45324bf5-37d6-4d5a-9fc2-d33dbb9d1af6\" class=\"plotly-graph-div\" style=\"height:525px; width:100%;\"></div>            <script type=\"text/javascript\">                                    window.PLOTLYENV=window.PLOTLYENV || {};                                    if (document.getElementById(\"45324bf5-37d6-4d5a-9fc2-d33dbb9d1af6\")) {                    Plotly.newPlot(                        \"45324bf5-37d6-4d5a-9fc2-d33dbb9d1af6\",                        [{\"hovertemplate\":\"well_sub=STK1<br>bh_long=%{x}<br>bh_lat=%{y}<br>tvd=%{z}<extra></extra>\",\"legendgroup\":\"STK1\",\"marker\":{\"color\":\"#636efa\",\"symbol\":\"circle\",\"size\":3},\"mode\":\"markers\",\"name\":\"STK1\",\"scene\":\"scene\",\"showlegend\":true,\"x\":[-103.67045617,-103.67066176,-103.66728611,-103.66740523,-103.66753852,-103.6676699,-103.66779792,-103.66793053,-103.66805924,-103.66832102,-103.66844983,-103.66871137,-103.66884407,-103.66897685,-103.66910961,-103.66923393,-103.66936641,-103.66949468,-103.66962718,-103.6697555,-103.66988367,-103.67001173,-103.67013539,-103.67026692,-103.6703862],\"y\":[48.92815407,48.92813238,48.92839584,48.92837393,48.9283547,48.92834293,48.92833361,48.92832536,48.92831876,48.92830715,48.92830151,48.92828795,48.92828038,48.92827349,48.92826607,48.9282579,48.92824842,48.92823886,48.92822946,48.92822012,48.92821005,48.92819925,48.92818758,48.92817354,48.92816117],\"z\":[10841.3183594,10842.1914062,10827.265625,10831.5185547,10835.3154297,10838.5224609,10840.6308594,10841.5800781,10841.8779297,10842.3730469,10842.7519531,10842.2568359,10841.1679688,10840.0791016,10839.4931641,10839.5195312,10839.9101562,10840.4238281,10840.6191406,10840.2402344,10839.6455078,10839.4287109,10839.8476562,10840.5458984,10841.0517578],\"type\":\"scatter3d\"},{\"hovertemplate\":\"well_sub=LAT2<br>bh_long=%{x}<br>bh_lat=%{y}<br>tvd=%{z}<extra></extra>\",\"legendgroup\":\"LAT2\",\"marker\":{\"color\":\"#EF553B\",\"symbol\":\"circle\",\"size\":3},\"mode\":\"markers\",\"name\":\"LAT2\",\"scene\":\"scene\",\"showlegend\":true,\"x\":[-103.6698815,-103.67001477,-103.67012719,-103.67025623,-103.67038113,-103.67051426,-103.67064327,-103.67077641,-103.67090528,-103.67103418,-103.67116316,-103.6712879,-103.67141249,-103.67154124,-103.67167002,-103.67179459,-103.67191913,-103.67205198,-103.67224306],\"y\":[48.92828271,48.92828248,48.928283,48.92828567,48.9282856,48.9282823,48.92827985,48.92827625,48.92827114,48.92826654,48.92826283,48.92825895,48.92825364,48.92824793,48.92824274,48.92823772,48.92823263,48.92822735,48.9282201],\"z\":[10837.4765625,10837.3925781,10837.0390625,10836.9580078,10836.7744141,10835.8808594,10835.1230469,10834.7880859,10834.5449219,10834.03125,10834.03125,10834.8955078,10836.046875,10837.0478516,10838.1835938,10839.5966797,10841.1142578,10842.7890625,10844.7558594],\"type\":\"scatter3d\"},{\"hovertemplate\":\"well_sub=LAT1<br>bh_long=%{x}<br>bh_lat=%{y}<br>tvd=%{z}<extra></extra>\",\"legendgroup\":\"LAT1\",\"marker\":{\"color\":\"#00cc96\",\"symbol\":\"circle\",\"size\":3},\"mode\":\"markers\",\"name\":\"LAT1\",\"scene\":\"scene\",\"showlegend\":true,\"x\":[-103.66896958,-103.66910284,-103.66923194,-103.66935271,-103.66948596,-103.66961919,-103.66975241,-103.6698815,-103.67001477,-103.67014385,-103.67027706,-103.67041024,-103.67054315,-103.67058876,-103.67079607,-103.66574543,-103.66574947,-103.66575316,-103.66575449,-103.66575843,-103.66576613,-103.66577968,-103.66579919,-103.66582626,-103.66585965,-103.66589983,-103.6659465,-103.66600137,-103.66605887,-103.6661243,-103.66619341,-103.66627112,-103.66635522,-103.66644883,-103.66654876,-103.66665455,-103.66676279,-103.66687951,-103.66699636,-103.66715968,-103.66728611,-103.66740523,-103.6675304,-103.66766143,-103.6677889,-103.66792133,-103.66805438,-103.66818747,-103.66830801,-103.66844109,-103.66857425,-103.66870741,-103.66883639,-103.66557097,-103.66557822,-103.66558724,-103.6655954,-103.66560405,-103.66561268,-103.66562074,-103.66562815,-103.66563705,-103.66565018,-103.66566482,-103.66567725,-103.66568652,-103.66569311,-103.66569901,-103.66570359,-103.66570623,-103.6657081,-103.66570901,-103.66571105,-103.66571481,-103.66571788,-103.66571985,-103.66572034,-103.66571929,-103.66571685,-103.66571356,-103.66571196,-103.66571223,-103.66571266,-103.66571369,-103.66571635,-103.66571958,-103.66572455,-103.6657296,-103.66573324,-103.66573666,-103.66574074,-103.66556909,-103.66556881,-103.66556712,-103.66556577,-103.66556392,-103.66556153,-103.66555995,-103.66555924,-103.66555963,-103.66555965,-103.66556013,-103.66556234,-103.66556568,-103.66556868,-103.66556982,-103.66556861,-103.66556528,-103.66556131,-103.66555926,-103.66555627,-103.66555358,-103.66555452,-103.66555503,-103.66555455,-103.66555391,-103.66555355,-103.66555418,-103.66555602,-103.66555956,-103.66556392,-103.66556792,-103.66556928],\"y\":[48.92828325,48.92828241,48.92828248,48.92828214,48.92828122,48.92828083,48.92828167,48.92828271,48.92828256,48.92828263,48.9282834,48.92828179,48.92827628,48.92827373,48.9282619,48.92867213,48.92867189,48.92867101,48.9286702,48.92866871,48.92866734,48.92866615,48.92866466,48.92866162,48.92865684,48.92865004,48.9286412,48.92863064,48.92861918,48.92860559,48.92859186,48.92857729,48.92856188,48.92854584,48.92852911,48.92851109,48.92849216,48.92847091,48.92844941,48.92841917,48.92839584,48.92837393,48.92835429,48.92833829,48.92832484,48.92831513,48.92831016,48.92830594,48.92830136,48.92829685,48.92829332,48.92828987,48.92828609,48.92866424,48.92866515,48.92866702,48.92866963,48.92867193,48.92867299,48.92867352,48.92867341,48.92867216,48.92866707,48.92865918,48.92865266,48.92864921,48.92864839,48.9286476,48.92864785,48.9286504,48.92865394,48.92865812,48.92866225,48.92866566,48.92866855,48.92867162,48.92867529,48.92867877,48.92868188,48.92868441,48.92868643,48.92868816,48.92868856,48.92868822,48.92868699,48.92868503,48.92868201,48.92867844,48.92867552,48.92867339,48.92867251,48.9286768,48.92867642,48.92867642,48.92867604,48.92867515,48.92867371,48.928672,48.92867035,48.92866909,48.92866836,48.92866763,48.92866728,48.92866704,48.92866685,48.92866757,48.92866831,48.92866811,48.92866756,48.92866661,48.92866379,48.92866076,48.92865939,48.92865909,48.92865936,48.92865982,48.92865999,48.92865978,48.92865933,48.9286597,48.92866085,48.9286612,48.92866274],\"z\":[10835.7587891,10835.6748047,10835.2421875,10835.1152344,10835.5341797,10836.2597656,10837.0976562,10837.4765625,10837.3925781,10836.8515625,10835.9306641,10834.9814453,10833.8085938,10833.3574219,10831.4814453,10103.2021484,10196.1972656,10289.1923828,10314.1884766,10346.1689453,10377.1083984,10408.9365234,10439.5722656,10470.8798828,10500.7695312,10530.1210938,10558.8398438,10587.7431641,10614.0410156,10640.2988281,10664.7802734,10688.9521484,10711.7851562,10733.7880859,10754.0517578,10772.3554688,10787.7558594,10801.0986328,10811.6728516,10821.7910156,10827.265625,10831.5185547,10833.8164062,10834.1513672,10834.2050781,10834.2890625,10834.2890625,10834.8193359,10835.5527344,10836.0830078,10836.3066406,10836.2509766,10835.9267578,6569.90771484,6662.89013672,6755.86230469,6848.83691406,6941.80957031,7034.78564453,7127.76513672,7220.74804688,7313.72167969,7406.64697266,7499.53613281,7592.45751953,7685.42138672,7778.40722656,7871.39599609,7964.38818359,8057.38134766,8150.37109375,8243.35839844,8336.34472656,8429.33203125,8522.32324219,8615.31542969,8708.30566406,8801.296875,8894.28808594,8987.28027344,9080.27636719,9173.27441406,9266.27441406,9359.2734375,9452.26953125,9545.26367188,9638.24902344,9731.23144531,9824.22167969,9917.21484375,10010.2089844,3593.98999023,3686.98974609,3779.98876953,3872.98803711,3965.98632813,4058.98291016,4151.97998047,4244.97802734,4337.9765625,4430.97607422,4523.97558594,4616.97412109,4709.97070313,4802.96777344,4895.96679688,4988.96582031,5081.96240234,5174.95751953,5267.95507813,5360.9453125,5453.93505859,5546.93359375,5639.93310547,5732.93310547,5825.93261719,5918.93261719,6011.93261719,6104.93115234,6197.92675781,6290.91992188,6383.91503906,6476.91162109],\"type\":\"scatter3d\"}],                        {\"template\":{\"data\":{\"bar\":[{\"error_x\":{\"color\":\"#2a3f5f\"},\"error_y\":{\"color\":\"#2a3f5f\"},\"marker\":{\"line\":{\"color\":\"#E5ECF6\",\"width\":0.5},\"pattern\":{\"fillmode\":\"overlay\",\"size\":10,\"solidity\":0.2}},\"type\":\"bar\"}],\"barpolar\":[{\"marker\":{\"line\":{\"color\":\"#E5ECF6\",\"width\":0.5},\"pattern\":{\"fillmode\":\"overlay\",\"size\":10,\"solidity\":0.2}},\"type\":\"barpolar\"}],\"carpet\":[{\"aaxis\":{\"endlinecolor\":\"#2a3f5f\",\"gridcolor\":\"white\",\"linecolor\":\"white\",\"minorgridcolor\":\"white\",\"startlinecolor\":\"#2a3f5f\"},\"baxis\":{\"endlinecolor\":\"#2a3f5f\",\"gridcolor\":\"white\",\"linecolor\":\"white\",\"minorgridcolor\":\"white\",\"startlinecolor\":\"#2a3f5f\"},\"type\":\"carpet\"}],\"choropleth\":[{\"colorbar\":{\"outlinewidth\":0,\"ticks\":\"\"},\"type\":\"choropleth\"}],\"contour\":[{\"colorbar\":{\"outlinewidth\":0,\"ticks\":\"\"},\"colorscale\":[[0.0,\"#0d0887\"],[0.1111111111111111,\"#46039f\"],[0.2222222222222222,\"#7201a8\"],[0.3333333333333333,\"#9c179e\"],[0.4444444444444444,\"#bd3786\"],[0.5555555555555556,\"#d8576b\"],[0.6666666666666666,\"#ed7953\"],[0.7777777777777778,\"#fb9f3a\"],[0.8888888888888888,\"#fdca26\"],[1.0,\"#f0f921\"]],\"type\":\"contour\"}],\"contourcarpet\":[{\"colorbar\":{\"outlinewidth\":0,\"ticks\":\"\"},\"type\":\"contourcarpet\"}],\"heatmap\":[{\"colorbar\":{\"outlinewidth\":0,\"ticks\":\"\"},\"colorscale\":[[0.0,\"#0d0887\"],[0.1111111111111111,\"#46039f\"],[0.2222222222222222,\"#7201a8\"],[0.3333333333333333,\"#9c179e\"],[0.4444444444444444,\"#bd3786\"],[0.5555555555555556,\"#d8576b\"],[0.6666666666666666,\"#ed7953\"],[0.7777777777777778,\"#fb9f3a\"],[0.8888888888888888,\"#fdca26\"],[1.0,\"#f0f921\"]],\"type\":\"heatmap\"}],\"heatmapgl\":[{\"colorbar\":{\"outlinewidth\":0,\"ticks\":\"\"},\"colorscale\":[[0.0,\"#0d0887\"],[0.1111111111111111,\"#46039f\"],[0.2222222222222222,\"#7201a8\"],[0.3333333333333333,\"#9c179e\"],[0.4444444444444444,\"#bd3786\"],[0.5555555555555556,\"#d8576b\"],[0.6666666666666666,\"#ed7953\"],[0.7777777777777778,\"#fb9f3a\"],[0.8888888888888888,\"#fdca26\"],[1.0,\"#f0f921\"]],\"type\":\"heatmapgl\"}],\"histogram\":[{\"marker\":{\"pattern\":{\"fillmode\":\"overlay\",\"size\":10,\"solidity\":0.2}},\"type\":\"histogram\"}],\"histogram2d\":[{\"colorbar\":{\"outlinewidth\":0,\"ticks\":\"\"},\"colorscale\":[[0.0,\"#0d0887\"],[0.1111111111111111,\"#46039f\"],[0.2222222222222222,\"#7201a8\"],[0.3333333333333333,\"#9c179e\"],[0.4444444444444444,\"#bd3786\"],[0.5555555555555556,\"#d8576b\"],[0.6666666666666666,\"#ed7953\"],[0.7777777777777778,\"#fb9f3a\"],[0.8888888888888888,\"#fdca26\"],[1.0,\"#f0f921\"]],\"type\":\"histogram2d\"}],\"histogram2dcontour\":[{\"colorbar\":{\"outlinewidth\":0,\"ticks\":\"\"},\"colorscale\":[[0.0,\"#0d0887\"],[0.1111111111111111,\"#46039f\"],[0.2222222222222222,\"#7201a8\"],[0.3333333333333333,\"#9c179e\"],[0.4444444444444444,\"#bd3786\"],[0.5555555555555556,\"#d8576b\"],[0.6666666666666666,\"#ed7953\"],[0.7777777777777778,\"#fb9f3a\"],[0.8888888888888888,\"#fdca26\"],[1.0,\"#f0f921\"]],\"type\":\"histogram2dcontour\"}],\"mesh3d\":[{\"colorbar\":{\"outlinewidth\":0,\"ticks\":\"\"},\"type\":\"mesh3d\"}],\"parcoords\":[{\"line\":{\"colorbar\":{\"outlinewidth\":0,\"ticks\":\"\"}},\"type\":\"parcoords\"}],\"pie\":[{\"automargin\":true,\"type\":\"pie\"}],\"scatter\":[{\"marker\":{\"colorbar\":{\"outlinewidth\":0,\"ticks\":\"\"}},\"type\":\"scatter\"}],\"scatter3d\":[{\"line\":{\"colorbar\":{\"outlinewidth\":0,\"ticks\":\"\"}},\"marker\":{\"colorbar\":{\"outlinewidth\":0,\"ticks\":\"\"}},\"type\":\"scatter3d\"}],\"scattercarpet\":[{\"marker\":{\"colorbar\":{\"outlinewidth\":0,\"ticks\":\"\"}},\"type\":\"scattercarpet\"}],\"scattergeo\":[{\"marker\":{\"colorbar\":{\"outlinewidth\":0,\"ticks\":\"\"}},\"type\":\"scattergeo\"}],\"scattergl\":[{\"marker\":{\"colorbar\":{\"outlinewidth\":0,\"ticks\":\"\"}},\"type\":\"scattergl\"}],\"scattermapbox\":[{\"marker\":{\"colorbar\":{\"outlinewidth\":0,\"ticks\":\"\"}},\"type\":\"scattermapbox\"}],\"scatterpolar\":[{\"marker\":{\"colorbar\":{\"outlinewidth\":0,\"ticks\":\"\"}},\"type\":\"scatterpolar\"}],\"scatterpolargl\":[{\"marker\":{\"colorbar\":{\"outlinewidth\":0,\"ticks\":\"\"}},\"type\":\"scatterpolargl\"}],\"scatterternary\":[{\"marker\":{\"colorbar\":{\"outlinewidth\":0,\"ticks\":\"\"}},\"type\":\"scatterternary\"}],\"surface\":[{\"colorbar\":{\"outlinewidth\":0,\"ticks\":\"\"},\"colorscale\":[[0.0,\"#0d0887\"],[0.1111111111111111,\"#46039f\"],[0.2222222222222222,\"#7201a8\"],[0.3333333333333333,\"#9c179e\"],[0.4444444444444444,\"#bd3786\"],[0.5555555555555556,\"#d8576b\"],[0.6666666666666666,\"#ed7953\"],[0.7777777777777778,\"#fb9f3a\"],[0.8888888888888888,\"#fdca26\"],[1.0,\"#f0f921\"]],\"type\":\"surface\"}],\"table\":[{\"cells\":{\"fill\":{\"color\":\"#EBF0F8\"},\"line\":{\"color\":\"white\"}},\"header\":{\"fill\":{\"color\":\"#C8D4E3\"},\"line\":{\"color\":\"white\"}},\"type\":\"table\"}]},\"layout\":{\"annotationdefaults\":{\"arrowcolor\":\"#2a3f5f\",\"arrowhead\":0,\"arrowwidth\":1},\"autotypenumbers\":\"strict\",\"coloraxis\":{\"colorbar\":{\"outlinewidth\":0,\"ticks\":\"\"}},\"colorscale\":{\"diverging\":[[0,\"#8e0152\"],[0.1,\"#c51b7d\"],[0.2,\"#de77ae\"],[0.3,\"#f1b6da\"],[0.4,\"#fde0ef\"],[0.5,\"#f7f7f7\"],[0.6,\"#e6f5d0\"],[0.7,\"#b8e186\"],[0.8,\"#7fbc41\"],[0.9,\"#4d9221\"],[1,\"#276419\"]],\"sequential\":[[0.0,\"#0d0887\"],[0.1111111111111111,\"#46039f\"],[0.2222222222222222,\"#7201a8\"],[0.3333333333333333,\"#9c179e\"],[0.4444444444444444,\"#bd3786\"],[0.5555555555555556,\"#d8576b\"],[0.6666666666666666,\"#ed7953\"],[0.7777777777777778,\"#fb9f3a\"],[0.8888888888888888,\"#fdca26\"],[1.0,\"#f0f921\"]],\"sequentialminus\":[[0.0,\"#0d0887\"],[0.1111111111111111,\"#46039f\"],[0.2222222222222222,\"#7201a8\"],[0.3333333333333333,\"#9c179e\"],[0.4444444444444444,\"#bd3786\"],[0.5555555555555556,\"#d8576b\"],[0.6666666666666666,\"#ed7953\"],[0.7777777777777778,\"#fb9f3a\"],[0.8888888888888888,\"#fdca26\"],[1.0,\"#f0f921\"]]},\"colorway\":[\"#636efa\",\"#EF553B\",\"#00cc96\",\"#ab63fa\",\"#FFA15A\",\"#19d3f3\",\"#FF6692\",\"#B6E880\",\"#FF97FF\",\"#FECB52\"],\"font\":{\"color\":\"#2a3f5f\"},\"geo\":{\"bgcolor\":\"white\",\"lakecolor\":\"white\",\"landcolor\":\"#E5ECF6\",\"showlakes\":true,\"showland\":true,\"subunitcolor\":\"white\"},\"hoverlabel\":{\"align\":\"left\"},\"hovermode\":\"closest\",\"mapbox\":{\"style\":\"light\"},\"paper_bgcolor\":\"white\",\"plot_bgcolor\":\"#E5ECF6\",\"polar\":{\"angularaxis\":{\"gridcolor\":\"white\",\"linecolor\":\"white\",\"ticks\":\"\"},\"bgcolor\":\"#E5ECF6\",\"radialaxis\":{\"gridcolor\":\"white\",\"linecolor\":\"white\",\"ticks\":\"\"}},\"scene\":{\"xaxis\":{\"backgroundcolor\":\"#E5ECF6\",\"gridcolor\":\"white\",\"gridwidth\":2,\"linecolor\":\"white\",\"showbackground\":true,\"ticks\":\"\",\"zerolinecolor\":\"white\"},\"yaxis\":{\"backgroundcolor\":\"#E5ECF6\",\"gridcolor\":\"white\",\"gridwidth\":2,\"linecolor\":\"white\",\"showbackground\":true,\"ticks\":\"\",\"zerolinecolor\":\"white\"},\"zaxis\":{\"backgroundcolor\":\"#E5ECF6\",\"gridcolor\":\"white\",\"gridwidth\":2,\"linecolor\":\"white\",\"showbackground\":true,\"ticks\":\"\",\"zerolinecolor\":\"white\"}},\"shapedefaults\":{\"line\":{\"color\":\"#2a3f5f\"}},\"ternary\":{\"aaxis\":{\"gridcolor\":\"white\",\"linecolor\":\"white\",\"ticks\":\"\"},\"baxis\":{\"gridcolor\":\"white\",\"linecolor\":\"white\",\"ticks\":\"\"},\"bgcolor\":\"#E5ECF6\",\"caxis\":{\"gridcolor\":\"white\",\"linecolor\":\"white\",\"ticks\":\"\"}},\"title\":{\"x\":0.05},\"xaxis\":{\"automargin\":true,\"gridcolor\":\"white\",\"linecolor\":\"white\",\"ticks\":\"\",\"title\":{\"standoff\":15},\"zerolinecolor\":\"white\",\"zerolinewidth\":2},\"yaxis\":{\"automargin\":true,\"gridcolor\":\"white\",\"linecolor\":\"white\",\"ticks\":\"\",\"title\":{\"standoff\":15},\"zerolinecolor\":\"white\",\"zerolinewidth\":2}}},\"scene\":{\"domain\":{\"x\":[0.0,1.0],\"y\":[0.0,1.0]},\"xaxis\":{\"title\":{\"text\":\"bh_long\"},\"autorange\":\"reversed\"},\"yaxis\":{\"title\":{\"text\":\"bh_lat\"},\"autorange\":\"reversed\"},\"zaxis\":{\"title\":{\"text\":\"tvd\"},\"range\":[16000,0]}},\"legend\":{\"title\":{\"text\":\"well_sub\"},\"tracegroupgap\":0},\"margin\":{\"t\":60},\"plot_bgcolor\":\"rgba(100, 0, 0, 0)\",\"paper_bgcolor\":\"rgba(0, 0, 0, 0)\"},                        {\"responsive\": true}                    ).then(function(){\n",
              "                            \n",
              "var gd = document.getElementById('45324bf5-37d6-4d5a-9fc2-d33dbb9d1af6');\n",
              "var x = new MutationObserver(function (mutations, observer) {{\n",
              "        var display = window.getComputedStyle(gd).display;\n",
              "        if (!display || display === 'none') {{\n",
              "            console.log([gd, 'removed!']);\n",
              "            Plotly.purge(gd);\n",
              "            observer.disconnect();\n",
              "        }}\n",
              "}});\n",
              "\n",
              "// Listen for the removal of the full notebook cells\n",
              "var notebookContainer = gd.closest('#notebook-container');\n",
              "if (notebookContainer) {{\n",
              "    x.observe(notebookContainer, {childList: true});\n",
              "}}\n",
              "\n",
              "// Listen for the clearing of the current output cell\n",
              "var outputEl = gd.closest('.output');\n",
              "if (outputEl) {{\n",
              "    x.observe(outputEl, {childList: true});\n",
              "}}\n",
              "\n",
              "                        })                };                            </script>        </div>\n",
              "</body>\n",
              "</html>"
            ]
          },
          "metadata": {}
        }
      ]
    },
    {
      "cell_type": "code",
      "source": [
        ""
      ],
      "metadata": {
        "id": "xosM2SiynOGB"
      },
      "execution_count": null,
      "outputs": []
    },
    {
      "cell_type": "code",
      "source": [
        ""
      ],
      "metadata": {
        "id": "4t3TdUFnnOJH"
      },
      "execution_count": null,
      "outputs": []
    },
    {
      "cell_type": "code",
      "source": [
        ""
      ],
      "metadata": {
        "id": "G8M4x4RxnOMk"
      },
      "execution_count": null,
      "outputs": []
    },
    {
      "cell_type": "code",
      "source": [
        ""
      ],
      "metadata": {
        "id": "2TYsFNQnIk3B"
      },
      "execution_count": null,
      "outputs": []
    },
    {
      "cell_type": "code",
      "source": [
        ""
      ],
      "metadata": {
        "id": "xBie_vc5Kox0"
      },
      "execution_count": null,
      "outputs": []
    },
    {
      "cell_type": "code",
      "source": [
        ""
      ],
      "metadata": {
        "id": "xXKZLAdKGyII"
      },
      "execution_count": null,
      "outputs": []
    }
  ]
}