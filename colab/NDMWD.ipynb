{
  "cells": [
    {
      "cell_type": "markdown",
      "metadata": {
        "id": "view-in-github",
        "colab_type": "text"
      },
      "source": [
        "<a href=\"https://colab.research.google.com/github/JozefSL/2022/blob/main/colab/NDMWD.ipynb\" target=\"_parent\"><img src=\"https://colab.research.google.com/assets/colab-badge.svg\" alt=\"Open In Colab\"/></a>"
      ]
    },
    {
      "cell_type": "code",
      "source": [
        "import requests\n",
        "import xlrd\n",
        "from xlrd import XLRDError\n",
        "import csv\n",
        "import pandas as pd\n",
        "from datetime import datetime\n",
        "from dateutil.relativedelta import relativedelta\n",
        "from google.colab import drive\n",
        "import os\n",
        "import sqlite3"
      ],
      "metadata": {
        "id": "gqEuqely7JFt"
      },
      "execution_count": 1,
      "outputs": []
    },
    {
      "cell_type": "code",
      "execution_count": 3,
      "metadata": {
        "pycharm": {
          "name": "#%%\n"
        },
        "id": "RxdIaZ0CjDlb",
        "outputId": "7e05d608-1fab-4f86-818d-a45578acad30",
        "colab": {
          "base_uri": "https://localhost:8080/"
        }
      },
      "outputs": [
        {
          "output_type": "stream",
          "name": "stdout",
          "text": [
            "https://www.dmr.nd.gov/oilgas/mpr/2021_05.xlsx\n",
            "https://www.dmr.nd.gov/oilgas/mpr/2021_06.xlsx\n",
            "https://www.dmr.nd.gov/oilgas/mpr/2021_07.xlsx\n",
            "https://www.dmr.nd.gov/oilgas/mpr/2021_08.xlsx\n",
            "https://www.dmr.nd.gov/oilgas/mpr/2021_09.xlsx\n",
            "https://www.dmr.nd.gov/oilgas/mpr/2021_10.xlsx\n",
            "https://www.dmr.nd.gov/oilgas/mpr/2021_11.xlsx\n",
            "<class 'RuntimeError'>\n",
            "error month:  2021_11\n",
            "ND well data query executed on Wednesday, January 05, 2022 at 10:20PM (GMT\n"
          ]
        }
      ],
      "source": [
        "def PullNDData():\n",
        "   \n",
        "    # create list of all yyyy-mm for data download.  The first free file available in xcel is from 2015-04-10\n",
        "    # Access the ND DMR data @ https://www.dmr.nd.gov/oilgas/mprindex.asp\n",
        "    # select the month of the first file to scrape:\n",
        "    ymList = pd.date_range('2021-04-10',datetime.today()- relativedelta(months=2), freq='MS').strftime(\"%Y_%m\").tolist()  # with month in numeric format\n",
        "   \n",
        "    website = \"https://www.dmr.nd.gov/oilgas/mpr/\"\n",
        "\n",
        "    NDMWD = []  #list()  # North Dakota Monthly Well Data\n",
        "    for month in ymList:\n",
        "        try:\n",
        "            target_url = website + month + '.xlsx'\n",
        "            print(target_url)\n",
        "            r = requests.get(target_url)\n",
        "            wb = pd.read_excel(xlrd.open_workbook(file_contents=r.content))\n",
        "            NDMWD.append(wb)\n",
        "        except: #finds exceptions when pulling data from website, logs and displays errors to screen. Will add to file.\n",
        "            if(RuntimeError):\n",
        "                print(RuntimeError)\n",
        "            elif(XLRDError):\n",
        "                print(XLRDError)\n",
        "            print(\"error month: \", month)\n",
        "            pass\n",
        "\n",
        "    NDMWD = pd.concat(NDMWD)\n",
        "    NDMWD.rename(columns={\"API_WELLNO\": \"APINumber\"},inplace=True)\n",
        "    NDMWD['APINumber'] = NDMWD['APINumber'].astype(str) #sets APINumber column as a string/character\n",
        "\n",
        "    \n",
        "    print('ND well data query executed on', datetime.now().strftime(\"%A, %B %d, %Y at %I:%M%p\"),'(GMT')\n",
        "    return NDMWD\n",
        "NDMWD = PullNDData()"
      ]
    },
    {
      "cell_type": "code",
      "source": [
        "NDMWD.head()"
      ],
      "metadata": {
        "colab": {
          "base_uri": "https://localhost:8080/",
          "height": 397
        },
        "id": "qLd3Qr_U-uNJ",
        "outputId": "aa2ee65d-2b52-4fc8-d9ad-da542a2db80e"
      },
      "execution_count": 8,
      "outputs": [
        {
          "output_type": "execute_result",
          "data": {
            "text/html": [
              "\n",
              "  <div id=\"df-5b30e529-ecce-49fc-983f-1a2b4a3c40a9\">\n",
              "    <div class=\"colab-df-container\">\n",
              "      <div>\n",
              "<style scoped>\n",
              "    .dataframe tbody tr th:only-of-type {\n",
              "        vertical-align: middle;\n",
              "    }\n",
              "\n",
              "    .dataframe tbody tr th {\n",
              "        vertical-align: top;\n",
              "    }\n",
              "\n",
              "    .dataframe thead th {\n",
              "        text-align: right;\n",
              "    }\n",
              "</style>\n",
              "<table border=\"1\" class=\"dataframe\">\n",
              "  <thead>\n",
              "    <tr style=\"text-align: right;\">\n",
              "      <th></th>\n",
              "      <th>ReportDate</th>\n",
              "      <th>APINumber</th>\n",
              "      <th>FileNo</th>\n",
              "      <th>Company</th>\n",
              "      <th>WellName</th>\n",
              "      <th>Quarter</th>\n",
              "      <th>Section</th>\n",
              "      <th>Township</th>\n",
              "      <th>Range</th>\n",
              "      <th>County</th>\n",
              "      <th>FieldName</th>\n",
              "      <th>Pool</th>\n",
              "      <th>Oil</th>\n",
              "      <th>Wtr</th>\n",
              "      <th>Days</th>\n",
              "      <th>Runs</th>\n",
              "      <th>Gas</th>\n",
              "      <th>GasSold</th>\n",
              "      <th>Flared</th>\n",
              "      <th>Lat</th>\n",
              "      <th>Long</th>\n",
              "    </tr>\n",
              "  </thead>\n",
              "  <tbody>\n",
              "    <tr>\n",
              "      <th>0</th>\n",
              "      <td>2021-05-01</td>\n",
              "      <td>33053050000000</td>\n",
              "      <td>25644</td>\n",
              "      <td>EQUINOR ENERGY LP</td>\n",
              "      <td>BILL  14-23 6H</td>\n",
              "      <td>NWNE</td>\n",
              "      <td>14</td>\n",
              "      <td>151</td>\n",
              "      <td>101</td>\n",
              "      <td>MCK</td>\n",
              "      <td>ALEXANDER</td>\n",
              "      <td>BAKKEN</td>\n",
              "      <td>1645.0</td>\n",
              "      <td>3577.0</td>\n",
              "      <td>31.0</td>\n",
              "      <td>1825</td>\n",
              "      <td>6686.0</td>\n",
              "      <td>6562</td>\n",
              "      <td>0.0</td>\n",
              "      <td>47.904582</td>\n",
              "      <td>-103.569419</td>\n",
              "    </tr>\n",
              "    <tr>\n",
              "      <th>1</th>\n",
              "      <td>2021-05-01</td>\n",
              "      <td>33053039010000</td>\n",
              "      <td>22023</td>\n",
              "      <td>EQUINOR ENERGY LP</td>\n",
              "      <td>BILL 14-23  1H</td>\n",
              "      <td>SWSW</td>\n",
              "      <td>11</td>\n",
              "      <td>151</td>\n",
              "      <td>101</td>\n",
              "      <td>MCK</td>\n",
              "      <td>ALEXANDER</td>\n",
              "      <td>BAKKEN</td>\n",
              "      <td>753.0</td>\n",
              "      <td>822.0</td>\n",
              "      <td>31.0</td>\n",
              "      <td>688</td>\n",
              "      <td>5060.0</td>\n",
              "      <td>3875</td>\n",
              "      <td>1061.0</td>\n",
              "      <td>47.907508</td>\n",
              "      <td>-103.580354</td>\n",
              "    </tr>\n",
              "    <tr>\n",
              "      <th>2</th>\n",
              "      <td>2021-05-01</td>\n",
              "      <td>33053038990000</td>\n",
              "      <td>22021</td>\n",
              "      <td>EQUINOR ENERGY LP</td>\n",
              "      <td>BILL 14-23 2TFH</td>\n",
              "      <td>SWSW</td>\n",
              "      <td>11</td>\n",
              "      <td>151</td>\n",
              "      <td>101</td>\n",
              "      <td>MCK</td>\n",
              "      <td>ALEXANDER</td>\n",
              "      <td>BAKKEN</td>\n",
              "      <td>941.0</td>\n",
              "      <td>2366.0</td>\n",
              "      <td>31.0</td>\n",
              "      <td>1004</td>\n",
              "      <td>839.0</td>\n",
              "      <td>615</td>\n",
              "      <td>100.0</td>\n",
              "      <td>47.907450</td>\n",
              "      <td>-103.580411</td>\n",
              "    </tr>\n",
              "    <tr>\n",
              "      <th>3</th>\n",
              "      <td>2021-05-01</td>\n",
              "      <td>33053048330000</td>\n",
              "      <td>25091</td>\n",
              "      <td>EQUINOR ENERGY LP</td>\n",
              "      <td>BILL 14-23 3H</td>\n",
              "      <td>NWNE</td>\n",
              "      <td>14</td>\n",
              "      <td>151</td>\n",
              "      <td>101</td>\n",
              "      <td>MCK</td>\n",
              "      <td>ALEXANDER</td>\n",
              "      <td>BAKKEN</td>\n",
              "      <td>533.0</td>\n",
              "      <td>3583.0</td>\n",
              "      <td>31.0</td>\n",
              "      <td>501</td>\n",
              "      <td>488.0</td>\n",
              "      <td>364</td>\n",
              "      <td>0.0</td>\n",
              "      <td>47.904582</td>\n",
              "      <td>-103.569664</td>\n",
              "    </tr>\n",
              "    <tr>\n",
              "      <th>4</th>\n",
              "      <td>2021-05-01</td>\n",
              "      <td>33053050010000</td>\n",
              "      <td>25645</td>\n",
              "      <td>EQUINOR ENERGY LP</td>\n",
              "      <td>BILL 14-23 4TFH</td>\n",
              "      <td>NWNE</td>\n",
              "      <td>14</td>\n",
              "      <td>151</td>\n",
              "      <td>101</td>\n",
              "      <td>MCK</td>\n",
              "      <td>ALEXANDER</td>\n",
              "      <td>BAKKEN</td>\n",
              "      <td>854.0</td>\n",
              "      <td>7610.0</td>\n",
              "      <td>31.0</td>\n",
              "      <td>802</td>\n",
              "      <td>998.0</td>\n",
              "      <td>874</td>\n",
              "      <td>0.0</td>\n",
              "      <td>47.904582</td>\n",
              "      <td>-103.569541</td>\n",
              "    </tr>\n",
              "  </tbody>\n",
              "</table>\n",
              "</div>\n",
              "      <button class=\"colab-df-convert\" onclick=\"convertToInteractive('df-5b30e529-ecce-49fc-983f-1a2b4a3c40a9')\"\n",
              "              title=\"Convert this dataframe to an interactive table.\"\n",
              "              style=\"display:none;\">\n",
              "        \n",
              "  <svg xmlns=\"http://www.w3.org/2000/svg\" height=\"24px\"viewBox=\"0 0 24 24\"\n",
              "       width=\"24px\">\n",
              "    <path d=\"M0 0h24v24H0V0z\" fill=\"none\"/>\n",
              "    <path d=\"M18.56 5.44l.94 2.06.94-2.06 2.06-.94-2.06-.94-.94-2.06-.94 2.06-2.06.94zm-11 1L8.5 8.5l.94-2.06 2.06-.94-2.06-.94L8.5 2.5l-.94 2.06-2.06.94zm10 10l.94 2.06.94-2.06 2.06-.94-2.06-.94-.94-2.06-.94 2.06-2.06.94z\"/><path d=\"M17.41 7.96l-1.37-1.37c-.4-.4-.92-.59-1.43-.59-.52 0-1.04.2-1.43.59L10.3 9.45l-7.72 7.72c-.78.78-.78 2.05 0 2.83L4 21.41c.39.39.9.59 1.41.59.51 0 1.02-.2 1.41-.59l7.78-7.78 2.81-2.81c.8-.78.8-2.07 0-2.86zM5.41 20L4 18.59l7.72-7.72 1.47 1.35L5.41 20z\"/>\n",
              "  </svg>\n",
              "      </button>\n",
              "      \n",
              "  <style>\n",
              "    .colab-df-container {\n",
              "      display:flex;\n",
              "      flex-wrap:wrap;\n",
              "      gap: 12px;\n",
              "    }\n",
              "\n",
              "    .colab-df-convert {\n",
              "      background-color: #E8F0FE;\n",
              "      border: none;\n",
              "      border-radius: 50%;\n",
              "      cursor: pointer;\n",
              "      display: none;\n",
              "      fill: #1967D2;\n",
              "      height: 32px;\n",
              "      padding: 0 0 0 0;\n",
              "      width: 32px;\n",
              "    }\n",
              "\n",
              "    .colab-df-convert:hover {\n",
              "      background-color: #E2EBFA;\n",
              "      box-shadow: 0px 1px 2px rgba(60, 64, 67, 0.3), 0px 1px 3px 1px rgba(60, 64, 67, 0.15);\n",
              "      fill: #174EA6;\n",
              "    }\n",
              "\n",
              "    [theme=dark] .colab-df-convert {\n",
              "      background-color: #3B4455;\n",
              "      fill: #D2E3FC;\n",
              "    }\n",
              "\n",
              "    [theme=dark] .colab-df-convert:hover {\n",
              "      background-color: #434B5C;\n",
              "      box-shadow: 0px 1px 3px 1px rgba(0, 0, 0, 0.15);\n",
              "      filter: drop-shadow(0px 1px 2px rgba(0, 0, 0, 0.3));\n",
              "      fill: #FFFFFF;\n",
              "    }\n",
              "  </style>\n",
              "\n",
              "      <script>\n",
              "        const buttonEl =\n",
              "          document.querySelector('#df-5b30e529-ecce-49fc-983f-1a2b4a3c40a9 button.colab-df-convert');\n",
              "        buttonEl.style.display =\n",
              "          google.colab.kernel.accessAllowed ? 'block' : 'none';\n",
              "\n",
              "        async function convertToInteractive(key) {\n",
              "          const element = document.querySelector('#df-5b30e529-ecce-49fc-983f-1a2b4a3c40a9');\n",
              "          const dataTable =\n",
              "            await google.colab.kernel.invokeFunction('convertToInteractive',\n",
              "                                                     [key], {});\n",
              "          if (!dataTable) return;\n",
              "\n",
              "          const docLinkHtml = 'Like what you see? Visit the ' +\n",
              "            '<a target=\"_blank\" href=https://colab.research.google.com/notebooks/data_table.ipynb>data table notebook</a>'\n",
              "            + ' to learn more about interactive tables.';\n",
              "          element.innerHTML = '';\n",
              "          dataTable['output_type'] = 'display_data';\n",
              "          await google.colab.output.renderOutput(dataTable, element);\n",
              "          const docLink = document.createElement('div');\n",
              "          docLink.innerHTML = docLinkHtml;\n",
              "          element.appendChild(docLink);\n",
              "        }\n",
              "      </script>\n",
              "    </div>\n",
              "  </div>\n",
              "  "
            ],
            "text/plain": [
              "  ReportDate       APINumber  FileNo  ...  Flared        Lat        Long\n",
              "0 2021-05-01  33053050000000   25644  ...     0.0  47.904582 -103.569419\n",
              "1 2021-05-01  33053039010000   22023  ...  1061.0  47.907508 -103.580354\n",
              "2 2021-05-01  33053038990000   22021  ...   100.0  47.907450 -103.580411\n",
              "3 2021-05-01  33053048330000   25091  ...     0.0  47.904582 -103.569664\n",
              "4 2021-05-01  33053050010000   25645  ...     0.0  47.904582 -103.569541\n",
              "\n",
              "[5 rows x 21 columns]"
            ]
          },
          "metadata": {},
          "execution_count": 8
        },
        {
          "output_type": "stream",
          "name": "stdout",
          "text": [
            "Warning: Total number of columns (21) exceeds max_columns (20) limiting to first (20) columns.\n"
          ]
        }
      ]
    },
    {
      "cell_type": "code",
      "source": [
        "firstProdMonth = NDMWD[['ReportDate','APINumber','Oil','Gas','Days']]\n",
        "firstProdMonth = firstProdMonth.sort_values(['APINumber','ReportDate']).drop_duplicates('APINumber', keep='first')\n",
        "firstProdMonth.rename({'ReportDate': 'firstProdMonth'}, axis=1, inplace=True)"
      ],
      "metadata": {
        "id": "AuJzG7yA-xNG"
      },
      "execution_count": 5,
      "outputs": []
    },
    {
      "cell_type": "code",
      "source": [
        "firstProdMonth['oP0'] = firstProdMonth['Oil']/firstProdMonth['Days']\n",
        "firstProdMonth['gP0'] = firstProdMonth['Gas']/firstProdMonth['Days']\n",
        "firstProdMonth = firstProdMonth.drop(['Oil','Gas','Days'],axis=1)\n",
        "firstProdMonth = firstProdMonth.dropna().reset_index(drop=True)"
      ],
      "metadata": {
        "id": "dB_nGYt6HNB5"
      },
      "execution_count": 6,
      "outputs": []
    },
    {
      "cell_type": "code",
      "source": [
        "#firstProdMonth.tail()\n",
        "firstProdMonth.info()\n",
        "#firstProdMonth[firstProdMonth['APINumber']== '33007000400000']"
      ],
      "metadata": {
        "colab": {
          "base_uri": "https://localhost:8080/"
        },
        "id": "C9E6O8qRFMFO",
        "outputId": "888ece8a-8ff2-47f0-cbd1-d121d6e89897"
      },
      "execution_count": 7,
      "outputs": [
        {
          "output_type": "stream",
          "name": "stdout",
          "text": [
            "<class 'pandas.core.frame.DataFrame'>\n",
            "RangeIndex: 16622 entries, 0 to 16621\n",
            "Data columns (total 4 columns):\n",
            " #   Column          Non-Null Count  Dtype         \n",
            "---  ------          --------------  -----         \n",
            " 0   firstProdMonth  16622 non-null  datetime64[ns]\n",
            " 1   APINumber       16622 non-null  object        \n",
            " 2   oP0             16622 non-null  float64       \n",
            " 3   gP0             16622 non-null  float64       \n",
            "dtypes: datetime64[ns](1), float64(2), object(1)\n",
            "memory usage: 519.6+ KB\n"
          ]
        }
      ]
    },
    {
      "cell_type": "code",
      "source": [
        "drive.mount('/content/drive')"
      ],
      "metadata": {
        "colab": {
          "base_uri": "https://localhost:8080/"
        },
        "id": "hHtGh-pwQw3-",
        "outputId": "0a2672a7-c460-4b56-f63e-37a68a296e63"
      },
      "execution_count": null,
      "outputs": [
        {
          "output_type": "stream",
          "name": "stdout",
          "text": [
            "Drive already mounted at /content/drive; to attempt to forcibly remount, call drive.mount(\"/content/drive\", force_remount=True).\n"
          ]
        }
      ]
    },
    {
      "cell_type": "code",
      "source": [
        "conn = sqlite3.connect('/content/drive/MyDrive/FF_data')\n",
        "print(\"connected to sqlite3 verion:\", sqlite3.version)\n",
        "firstProdMonth.to_sql('firstProdMonth', conn, index=False, if_exists='replace')\n",
        "conn.close()\n",
        "print('Updated firstProdMonth table on', datetime.now().strftime(\"%A, %B %d, %Y at %I:%M%p\"),'(GMT)' '\\nconnection closed')"
      ],
      "metadata": {
        "colab": {
          "base_uri": "https://localhost:8080/"
        },
        "id": "f64PjYuRJYSr",
        "outputId": "86725d53-b91f-4aa4-83f2-8bc61148c398"
      },
      "execution_count": null,
      "outputs": [
        {
          "output_type": "stream",
          "name": "stdout",
          "text": [
            "connected to sqlite3 verion: 2.6.0\n",
            "Updated firstProdMonth table on Tuesday, December 21, 2021 at 02:15AM (GMT)\n",
            "connection closed\n"
          ]
        }
      ]
    },
    {
      "cell_type": "code",
      "source": [
        "conn = sqlite3.connect('/content/drive/MyDrive/FracFocus/FF_data')\n",
        "cursor = conn.cursor()\n",
        "cursor.execute(\"SELECT name FROM sqlite_master WHERE type='table';\")\n",
        "\n",
        "print(cursor.fetchall())\n",
        "conn.close()"
      ],
      "metadata": {
        "colab": {
          "base_uri": "https://localhost:8080/"
        },
        "id": "8RH0I5QSmrGZ",
        "outputId": "bb947569-2bfc-4344-80f6-52310ef721b4"
      },
      "execution_count": null,
      "outputs": [
        {
          "output_type": "stream",
          "name": "stdout",
          "text": [
            "[('RegistryUpload',), ('FracFocusRegistry',), ('firstProdMonth',)]\n"
          ]
        }
      ]
    },
    {
      "cell_type": "code",
      "source": [
        ""
      ],
      "metadata": {
        "id": "H5HaaBuAmrVY"
      },
      "execution_count": null,
      "outputs": []
    },
    {
      "cell_type": "code",
      "source": [
        "os.listdir()"
      ],
      "metadata": {
        "colab": {
          "base_uri": "https://localhost:8080/"
        },
        "id": "o0CkCGS-7BlC",
        "outputId": "e497ce67-f4b6-4b8f-ccda-6f686dcc6e64"
      },
      "execution_count": null,
      "outputs": [
        {
          "output_type": "execute_result",
          "data": {
            "text/plain": [
              "['.config', 'drive', 'sample_data']"
            ]
          },
          "metadata": {},
          "execution_count": 161
        }
      ]
    },
    {
      "cell_type": "code",
      "source": [
        "!ls"
      ],
      "metadata": {
        "colab": {
          "base_uri": "https://localhost:8080/"
        },
        "id": "J2o-nCOQP_B8",
        "outputId": "8820bfd7-d48b-423e-ed4f-9cec04a54150"
      },
      "execution_count": null,
      "outputs": [
        {
          "output_type": "stream",
          "name": "stdout",
          "text": [
            "drive  sample_data\n"
          ]
        }
      ]
    }
  ],
  "metadata": {
    "kernelspec": {
      "display_name": "Python 3",
      "language": "python",
      "name": "python3"
    },
    "language_info": {
      "codemirror_mode": {
        "name": "ipython",
        "version": 3
      },
      "file_extension": ".py",
      "mimetype": "text/x-python",
      "name": "python",
      "nbconvert_exporter": "python",
      "pygments_lexer": "ipython3",
      "version": "3.8.3"
    },
    "colab": {
      "name": "Copy of ND_WellDataMonthly.ipynb",
      "provenance": [],
      "collapsed_sections": [],
      "include_colab_link": true
    }
  },
  "nbformat": 4,
  "nbformat_minor": 0
}