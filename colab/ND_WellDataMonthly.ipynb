{
  "cells": [
    {
      "cell_type": "markdown",
      "metadata": {
        "id": "view-in-github",
        "colab_type": "text"
      },
      "source": [
        "<a href=\"https://colab.research.google.com/github/JozefSL/2022/blob/main/colab/ND_WellDataMonthly.ipynb\" target=\"_parent\"><img src=\"https://colab.research.google.com/assets/colab-badge.svg\" alt=\"Open In Colab\"/></a>"
      ]
    },
    {
      "cell_type": "code",
      "source": [
        "import requests\n",
        "import xlrd\n",
        "from xlrd import XLRDError\n",
        "import csv\n",
        "import pandas as pd\n",
        "from datetime import datetime\n",
        "from dateutil.relativedelta import relativedelta\n",
        "from google.colab import drive\n",
        "import os\n",
        "import sqlite3"
      ],
      "metadata": {
        "id": "gqEuqely7JFt"
      },
      "execution_count": 2,
      "outputs": []
    },
    {
      "cell_type": "code",
      "source": [
        "from google.colab import drive\n",
        "drive.mount('/content/drive')"
      ],
      "metadata": {
        "colab": {
          "base_uri": "https://localhost:8080/"
        },
        "id": "vVj8HvGSt010",
        "outputId": "6f82d1eb-58dc-4e85-e998-36e78ee2f9ad"
      },
      "execution_count": 1,
      "outputs": [
        {
          "output_type": "stream",
          "name": "stdout",
          "text": [
            "Mounted at /content/drive\n"
          ]
        }
      ]
    },
    {
      "cell_type": "code",
      "execution_count": null,
      "metadata": {
        "pycharm": {
          "name": "#%%\n"
        },
        "id": "RxdIaZ0CjDlb",
        "outputId": "0a68ed2a-d932-4c3e-d4da-3a2f8988788e",
        "colab": {
          "base_uri": "https://localhost:8080/"
        }
      },
      "outputs": [
        {
          "output_type": "stream",
          "name": "stdout",
          "text": [
            "https://www.dmr.nd.gov/oilgas/mpr/2015_05.xlsx\n",
            "https://www.dmr.nd.gov/oilgas/mpr/2015_06.xlsx\n",
            "https://www.dmr.nd.gov/oilgas/mpr/2015_07.xlsx\n",
            "https://www.dmr.nd.gov/oilgas/mpr/2015_08.xlsx\n",
            "https://www.dmr.nd.gov/oilgas/mpr/2015_09.xlsx\n",
            "https://www.dmr.nd.gov/oilgas/mpr/2015_10.xlsx\n",
            "https://www.dmr.nd.gov/oilgas/mpr/2015_11.xlsx\n",
            "https://www.dmr.nd.gov/oilgas/mpr/2015_12.xlsx\n",
            "https://www.dmr.nd.gov/oilgas/mpr/2016_01.xlsx\n",
            "https://www.dmr.nd.gov/oilgas/mpr/2016_02.xlsx\n",
            "https://www.dmr.nd.gov/oilgas/mpr/2016_03.xlsx\n",
            "https://www.dmr.nd.gov/oilgas/mpr/2016_04.xlsx\n",
            "https://www.dmr.nd.gov/oilgas/mpr/2016_05.xlsx\n",
            "https://www.dmr.nd.gov/oilgas/mpr/2016_06.xlsx\n",
            "https://www.dmr.nd.gov/oilgas/mpr/2016_07.xlsx\n",
            "https://www.dmr.nd.gov/oilgas/mpr/2016_08.xlsx\n",
            "https://www.dmr.nd.gov/oilgas/mpr/2016_09.xlsx\n",
            "https://www.dmr.nd.gov/oilgas/mpr/2016_10.xlsx\n",
            "https://www.dmr.nd.gov/oilgas/mpr/2016_11.xlsx\n",
            "https://www.dmr.nd.gov/oilgas/mpr/2016_12.xlsx\n",
            "https://www.dmr.nd.gov/oilgas/mpr/2017_01.xlsx\n",
            "https://www.dmr.nd.gov/oilgas/mpr/2017_02.xlsx\n",
            "https://www.dmr.nd.gov/oilgas/mpr/2017_03.xlsx\n",
            "https://www.dmr.nd.gov/oilgas/mpr/2017_04.xlsx\n",
            "https://www.dmr.nd.gov/oilgas/mpr/2017_05.xlsx\n",
            "https://www.dmr.nd.gov/oilgas/mpr/2017_06.xlsx\n",
            "https://www.dmr.nd.gov/oilgas/mpr/2017_07.xlsx\n",
            "https://www.dmr.nd.gov/oilgas/mpr/2017_08.xlsx\n",
            "https://www.dmr.nd.gov/oilgas/mpr/2017_09.xlsx\n",
            "https://www.dmr.nd.gov/oilgas/mpr/2017_10.xlsx\n",
            "https://www.dmr.nd.gov/oilgas/mpr/2017_11.xlsx\n",
            "https://www.dmr.nd.gov/oilgas/mpr/2017_12.xlsx\n",
            "https://www.dmr.nd.gov/oilgas/mpr/2018_01.xlsx\n",
            "https://www.dmr.nd.gov/oilgas/mpr/2018_02.xlsx\n",
            "https://www.dmr.nd.gov/oilgas/mpr/2018_03.xlsx\n",
            "https://www.dmr.nd.gov/oilgas/mpr/2018_04.xlsx\n",
            "https://www.dmr.nd.gov/oilgas/mpr/2018_05.xlsx\n",
            "https://www.dmr.nd.gov/oilgas/mpr/2018_06.xlsx\n",
            "https://www.dmr.nd.gov/oilgas/mpr/2018_07.xlsx\n",
            "https://www.dmr.nd.gov/oilgas/mpr/2018_08.xlsx\n",
            "https://www.dmr.nd.gov/oilgas/mpr/2018_09.xlsx\n",
            "https://www.dmr.nd.gov/oilgas/mpr/2018_10.xlsx\n",
            "https://www.dmr.nd.gov/oilgas/mpr/2018_11.xlsx\n",
            "https://www.dmr.nd.gov/oilgas/mpr/2018_12.xlsx\n",
            "https://www.dmr.nd.gov/oilgas/mpr/2019_01.xlsx\n",
            "https://www.dmr.nd.gov/oilgas/mpr/2019_02.xlsx\n",
            "https://www.dmr.nd.gov/oilgas/mpr/2019_03.xlsx\n",
            "https://www.dmr.nd.gov/oilgas/mpr/2019_04.xlsx\n",
            "https://www.dmr.nd.gov/oilgas/mpr/2019_05.xlsx\n",
            "https://www.dmr.nd.gov/oilgas/mpr/2019_06.xlsx\n",
            "https://www.dmr.nd.gov/oilgas/mpr/2019_07.xlsx\n",
            "https://www.dmr.nd.gov/oilgas/mpr/2019_08.xlsx\n",
            "https://www.dmr.nd.gov/oilgas/mpr/2019_09.xlsx\n",
            "https://www.dmr.nd.gov/oilgas/mpr/2019_10.xlsx\n",
            "https://www.dmr.nd.gov/oilgas/mpr/2019_11.xlsx\n",
            "https://www.dmr.nd.gov/oilgas/mpr/2019_12.xlsx\n",
            "https://www.dmr.nd.gov/oilgas/mpr/2020_01.xlsx\n",
            "https://www.dmr.nd.gov/oilgas/mpr/2020_02.xlsx\n",
            "https://www.dmr.nd.gov/oilgas/mpr/2020_03.xlsx\n",
            "https://www.dmr.nd.gov/oilgas/mpr/2020_04.xlsx\n",
            "https://www.dmr.nd.gov/oilgas/mpr/2020_05.xlsx\n",
            "https://www.dmr.nd.gov/oilgas/mpr/2020_06.xlsx\n",
            "https://www.dmr.nd.gov/oilgas/mpr/2020_07.xlsx\n",
            "https://www.dmr.nd.gov/oilgas/mpr/2020_08.xlsx\n",
            "https://www.dmr.nd.gov/oilgas/mpr/2020_09.xlsx\n",
            "https://www.dmr.nd.gov/oilgas/mpr/2020_10.xlsx\n",
            "https://www.dmr.nd.gov/oilgas/mpr/2020_11.xlsx\n",
            "https://www.dmr.nd.gov/oilgas/mpr/2020_12.xlsx\n",
            "https://www.dmr.nd.gov/oilgas/mpr/2021_01.xlsx\n",
            "https://www.dmr.nd.gov/oilgas/mpr/2021_02.xlsx\n",
            "https://www.dmr.nd.gov/oilgas/mpr/2021_03.xlsx\n",
            "https://www.dmr.nd.gov/oilgas/mpr/2021_04.xlsx\n",
            "https://www.dmr.nd.gov/oilgas/mpr/2021_05.xlsx\n",
            "https://www.dmr.nd.gov/oilgas/mpr/2021_06.xlsx\n",
            "https://www.dmr.nd.gov/oilgas/mpr/2021_07.xlsx\n",
            "https://www.dmr.nd.gov/oilgas/mpr/2021_08.xlsx\n",
            "https://www.dmr.nd.gov/oilgas/mpr/2021_09.xlsx\n",
            "https://www.dmr.nd.gov/oilgas/mpr/2021_10.xlsx\n",
            "ND well data query executed on Tuesday, December 21, 2021 at 02:09AM\n"
          ]
        }
      ],
      "source": [
        "\n",
        "\n",
        "#drive.mount('drive')\n",
        "def PullNDData():\n",
        "    #%%\n",
        "    # create list of all yyyy-mm for data download\n",
        "    ymList = pd.date_range('2015-04-10',datetime.today()- relativedelta(months=2), freq='MS').strftime(\"%Y_%m\").tolist()  # with month in numeric format\n",
        "    #ymList = pd.date_range(datetime.today()- relativedelta(months=6),datetime.today() - relativedelta(months=2), freq='MS').strftime(\"%Y_%m\").tolist()  # with month in numeric format\n",
        "\n",
        "    # Access the ND DMR data @ https://www.dmr.nd.gov/oilgas/mprindex.asp\n",
        "    website = \"https://www.dmr.nd.gov/oilgas/mpr/\"\n",
        "\n",
        "    #%%\n",
        "\n",
        "    NDMWD = []  #list()  # North Dakota Monthly Well Data\n",
        "    for month in ymList:\n",
        "        try:\n",
        "            target_url = website + month + '.xlsx'\n",
        "            print(target_url)\n",
        "            r = requests.get(target_url)\n",
        "            wb = pd.read_excel(xlrd.open_workbook(file_contents=r.content))\n",
        "            #print(r)\n",
        "            #print(wb.head())\n",
        "            NDMWD.append(wb)\n",
        "        except: #finds exceptions when pulling data from website, logs and displays errors to screen. Will add to file.\n",
        "            if(RuntimeError):\n",
        "                print(RuntimeError)\n",
        "            elif(XLRDError):\n",
        "                print(XLRDError)\n",
        "            print(\"error month: \", month)\n",
        "            pass\n",
        "\n",
        "    #%%\n",
        "    #print(NDMWD)\n",
        "    NDMWD = pd.concat(NDMWD)\n",
        "    NDMWD.rename(columns={\"API_WELLNO\": \"APINumber\"},inplace=True)\n",
        "    NDMWD['APINumber'] = NDMWD['APINumber'].astype(str) #sets APINumber column as a string/character\n",
        "    #%%\n",
        "    #Create ND monthly well data  \n",
        "    #NDMWD.to_csv('NDMWD.csv')\n",
        "    #!cp .csv \"drive/My Drive/Colab Notebooks\"\n",
        "    #NDMWD.to_csv('drive/My Drive/Colab Notebooks/NDMWD.csv')\n",
        "    \n",
        "    print('ND well data query executed on', datetime.now().strftime(\"%A, %B %d, %Y at %I:%M%p\"),'(GMT')\n",
        "    return NDMWD\n",
        "NDMWD = PullNDData()"
      ]
    },
    {
      "cell_type": "code",
      "source": [
        "NDMWD.info()"
      ],
      "metadata": {
        "colab": {
          "base_uri": "https://localhost:8080/"
        },
        "id": "qLd3Qr_U-uNJ",
        "outputId": "d0fb1730-8277-4f19-9e7a-f8f31fe03fb3"
      },
      "execution_count": null,
      "outputs": [
        {
          "output_type": "stream",
          "name": "stdout",
          "text": [
            "<class 'pandas.core.frame.DataFrame'>\n",
            "Int64Index: 1314442 entries, 0 to 19253\n",
            "Data columns (total 21 columns):\n",
            " #   Column      Non-Null Count    Dtype         \n",
            "---  ------      --------------    -----         \n",
            " 0   ReportDate  1314442 non-null  datetime64[ns]\n",
            " 1   APINumber   1314442 non-null  object        \n",
            " 2   FileNo      1314442 non-null  int64         \n",
            " 3   Company     1314442 non-null  object        \n",
            " 4   WellName    1314442 non-null  object        \n",
            " 5   Quarter     1314326 non-null  object        \n",
            " 6   Section     1314415 non-null  float64       \n",
            " 7   Township    1314415 non-null  float64       \n",
            " 8   Range       1314415 non-null  float64       \n",
            " 9   County      1314442 non-null  object        \n",
            " 10  FieldName   1314442 non-null  object        \n",
            " 11  Pool        1314442 non-null  object        \n",
            " 12  Oil         1304698 non-null  float64       \n",
            " 13  Wtr         1304698 non-null  float64       \n",
            " 14  Days        1304698 non-null  float64       \n",
            " 15  Runs        1314442 non-null  int64         \n",
            " 16  Gas         1304698 non-null  float64       \n",
            " 17  GasSold     1314442 non-null  int64         \n",
            " 18  Flared      1304698 non-null  float64       \n",
            " 19  Lat         1314442 non-null  float64       \n",
            " 20  Long        1314442 non-null  float64       \n",
            "dtypes: datetime64[ns](1), float64(10), int64(3), object(7)\n",
            "memory usage: 220.6+ MB\n"
          ]
        }
      ]
    },
    {
      "cell_type": "code",
      "source": [
        "firstProdMonth = NDMWD[['ReportDate','APINumber','Oil','Gas','Days']]\n",
        "firstProdMonth = firstProdMonth.sort_values(['APINumber','ReportDate']).drop_duplicates('APINumber', keep='first')\n",
        "firstProdMonth.rename({'ReportDate': 'firstProdMonth'}, axis=1, inplace=True)"
      ],
      "metadata": {
        "id": "AuJzG7yA-xNG"
      },
      "execution_count": null,
      "outputs": []
    },
    {
      "cell_type": "code",
      "source": [
        "firstProdMonth['oP0'] = firstProdMonth['Oil']/firstProdMonth['Days']\n",
        "firstProdMonth['gP0'] = firstProdMonth['Gas']/firstProdMonth['Days']\n",
        "firstProdMonth = firstProdMonth.drop(['Oil','Gas','Days'],axis=1)\n",
        "firstProdMonth = firstProdMonth.dropna().reset_index(drop=True)"
      ],
      "metadata": {
        "id": "dB_nGYt6HNB5"
      },
      "execution_count": null,
      "outputs": []
    },
    {
      "cell_type": "code",
      "source": [
        "#firstProdMonth.tail()\n",
        "firstProdMonth.info()\n",
        "#firstProdMonth[firstProdMonth['APINumber']== '33007000400000']"
      ],
      "metadata": {
        "colab": {
          "base_uri": "https://localhost:8080/"
        },
        "id": "C9E6O8qRFMFO",
        "outputId": "2eebf1f2-5954-47eb-feca-4599b0568b13"
      },
      "execution_count": null,
      "outputs": [
        {
          "output_type": "stream",
          "name": "stdout",
          "text": [
            "<class 'pandas.core.frame.DataFrame'>\n",
            "RangeIndex: 15936 entries, 0 to 15935\n",
            "Data columns (total 4 columns):\n",
            " #   Column          Non-Null Count  Dtype         \n",
            "---  ------          --------------  -----         \n",
            " 0   firstProdMonth  15936 non-null  datetime64[ns]\n",
            " 1   APINumber       15936 non-null  object        \n",
            " 2   oP0             15936 non-null  float64       \n",
            " 3   gP0             15936 non-null  float64       \n",
            "dtypes: datetime64[ns](1), float64(2), object(1)\n",
            "memory usage: 498.1+ KB\n"
          ]
        }
      ]
    },
    {
      "cell_type": "code",
      "source": [
        "drive.mount('/content/drive')"
      ],
      "metadata": {
        "colab": {
          "base_uri": "https://localhost:8080/"
        },
        "id": "hHtGh-pwQw3-",
        "outputId": "0a2672a7-c460-4b56-f63e-37a68a296e63"
      },
      "execution_count": null,
      "outputs": [
        {
          "output_type": "stream",
          "name": "stdout",
          "text": [
            "Drive already mounted at /content/drive; to attempt to forcibly remount, call drive.mount(\"/content/drive\", force_remount=True).\n"
          ]
        }
      ]
    },
    {
      "cell_type": "code",
      "source": [
        "conn = sqlite3.connect('/content/drive/MyDrive/FF_data')\n",
        "print(\"connected to sqlite3 verion:\", sqlite3.version)\n",
        "firstProdMonth.to_sql('firstProdMonth', conn, index=False, if_exists='replace')\n",
        "conn.close()\n",
        "print('Updated firstProdMonth table on', datetime.now().strftime(\"%A, %B %d, %Y at %I:%M%p\"),'(GMT)' '\\nconnection closed')"
      ],
      "metadata": {
        "colab": {
          "base_uri": "https://localhost:8080/"
        },
        "id": "f64PjYuRJYSr",
        "outputId": "86725d53-b91f-4aa4-83f2-8bc61148c398"
      },
      "execution_count": null,
      "outputs": [
        {
          "output_type": "stream",
          "name": "stdout",
          "text": [
            "connected to sqlite3 verion: 2.6.0\n",
            "Updated firstProdMonth table on Tuesday, December 21, 2021 at 02:15AM (GMT)\n",
            "connection closed\n"
          ]
        }
      ]
    },
    {
      "cell_type": "code",
      "source": [
        "conn = sqlite3.connect('/content/drive/MyDrive/FracFocus/FF_data')\n",
        "cursor = conn.cursor()\n",
        "cursor.execute(\"SELECT name FROM sqlite_master WHERE type='table';\")\n",
        "\n",
        "print(cursor.fetchall())\n",
        "conn.close()"
      ],
      "metadata": {
        "colab": {
          "base_uri": "https://localhost:8080/"
        },
        "id": "8RH0I5QSmrGZ",
        "outputId": "bb947569-2bfc-4344-80f6-52310ef721b4"
      },
      "execution_count": 4,
      "outputs": [
        {
          "output_type": "stream",
          "name": "stdout",
          "text": [
            "[('RegistryUpload',), ('FracFocusRegistry',), ('firstProdMonth',)]\n"
          ]
        }
      ]
    },
    {
      "cell_type": "code",
      "source": [
        ""
      ],
      "metadata": {
        "id": "H5HaaBuAmrVY"
      },
      "execution_count": null,
      "outputs": []
    },
    {
      "cell_type": "code",
      "source": [
        "os.listdir()"
      ],
      "metadata": {
        "colab": {
          "base_uri": "https://localhost:8080/"
        },
        "id": "o0CkCGS-7BlC",
        "outputId": "e497ce67-f4b6-4b8f-ccda-6f686dcc6e64"
      },
      "execution_count": null,
      "outputs": [
        {
          "output_type": "execute_result",
          "data": {
            "text/plain": [
              "['.config', 'drive', 'sample_data']"
            ]
          },
          "metadata": {},
          "execution_count": 161
        }
      ]
    },
    {
      "cell_type": "code",
      "source": [
        "!ls"
      ],
      "metadata": {
        "colab": {
          "base_uri": "https://localhost:8080/"
        },
        "id": "J2o-nCOQP_B8",
        "outputId": "8820bfd7-d48b-423e-ed4f-9cec04a54150"
      },
      "execution_count": null,
      "outputs": [
        {
          "output_type": "stream",
          "name": "stdout",
          "text": [
            "drive  sample_data\n"
          ]
        }
      ]
    }
  ],
  "metadata": {
    "kernelspec": {
      "display_name": "Python 3",
      "language": "python",
      "name": "python3"
    },
    "language_info": {
      "codemirror_mode": {
        "name": "ipython",
        "version": 3
      },
      "file_extension": ".py",
      "mimetype": "text/x-python",
      "name": "python",
      "nbconvert_exporter": "python",
      "pygments_lexer": "ipython3",
      "version": "3.8.3"
    },
    "colab": {
      "name": "Copy of ND_WellDataMonthly.ipynb",
      "provenance": [],
      "collapsed_sections": [],
      "include_colab_link": true
    }
  },
  "nbformat": 4,
  "nbformat_minor": 0
}